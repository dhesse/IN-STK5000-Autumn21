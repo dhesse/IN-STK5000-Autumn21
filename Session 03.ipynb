{
 "cells": [
  {
   "cell_type": "code",
   "execution_count": 1,
   "id": "8c30c076-52b6-48e7-b007-fbdfb9aa1ab8",
   "metadata": {},
   "outputs": [],
   "source": [
    "import pandas as pd\n",
    "import numpy as np"
   ]
  },
  {
   "cell_type": "markdown",
   "id": "dbc375bd-2a8e-40c7-a60b-1c4ef796360b",
   "metadata": {},
   "source": [
    "# Reading the data"
   ]
  },
  {
   "cell_type": "code",
   "execution_count": 4,
   "id": "370855b1-fe1d-4367-901b-7f75cf1ce59f",
   "metadata": {},
   "outputs": [],
   "source": [
    "bike_df = pd.read_csv(\"oslo_bs_june.csv.gz\", parse_dates=[0, 1])"
   ]
  },
  {
   "cell_type": "code",
   "execution_count": 5,
   "id": "ae0de8c8-b228-4f08-9bd5-a060c98d4830",
   "metadata": {},
   "outputs": [
    {
     "data": {
      "text/html": [
       "<div>\n",
       "<style scoped>\n",
       "    .dataframe tbody tr th:only-of-type {\n",
       "        vertical-align: middle;\n",
       "    }\n",
       "\n",
       "    .dataframe tbody tr th {\n",
       "        vertical-align: top;\n",
       "    }\n",
       "\n",
       "    .dataframe thead th {\n",
       "        text-align: right;\n",
       "    }\n",
       "</style>\n",
       "<table border=\"1\" class=\"dataframe\">\n",
       "  <thead>\n",
       "    <tr style=\"text-align: right;\">\n",
       "      <th></th>\n",
       "      <th>started_at</th>\n",
       "      <th>ended_at</th>\n",
       "      <th>duration</th>\n",
       "      <th>start_station_id</th>\n",
       "      <th>start_station_name</th>\n",
       "      <th>start_station_description</th>\n",
       "      <th>start_station_latitude</th>\n",
       "      <th>start_station_longitude</th>\n",
       "      <th>end_station_id</th>\n",
       "      <th>end_station_name</th>\n",
       "      <th>end_station_description</th>\n",
       "      <th>end_station_latitude</th>\n",
       "      <th>end_station_longitude</th>\n",
       "    </tr>\n",
       "  </thead>\n",
       "  <tbody>\n",
       "    <tr>\n",
       "      <th>0</th>\n",
       "      <td>2021-06-01 03:02:17.992000+00:00</td>\n",
       "      <td>2021-06-01 03:12:40.819000+00:00</td>\n",
       "      <td>622</td>\n",
       "      <td>381</td>\n",
       "      <td>Grønlands torg</td>\n",
       "      <td>ved Tøyenbekken</td>\n",
       "      <td>59.912520</td>\n",
       "      <td>10.762240</td>\n",
       "      <td>410</td>\n",
       "      <td>Landstads gate</td>\n",
       "      <td>langs Uelands gate</td>\n",
       "      <td>59.929005</td>\n",
       "      <td>10.749676</td>\n",
       "    </tr>\n",
       "    <tr>\n",
       "      <th>1</th>\n",
       "      <td>2021-06-01 03:14:34.332000+00:00</td>\n",
       "      <td>2021-06-01 03:20:55.647000+00:00</td>\n",
       "      <td>381</td>\n",
       "      <td>421</td>\n",
       "      <td>Alexander Kiellands Plass</td>\n",
       "      <td>langs Maridalsveien</td>\n",
       "      <td>59.928067</td>\n",
       "      <td>10.751203</td>\n",
       "      <td>609</td>\n",
       "      <td>Fred Olsens gate</td>\n",
       "      <td>ved Karl Johans gate</td>\n",
       "      <td>59.911051</td>\n",
       "      <td>10.749374</td>\n",
       "    </tr>\n",
       "    <tr>\n",
       "      <th>2</th>\n",
       "      <td>2021-06-01 03:20:12.604000+00:00</td>\n",
       "      <td>2021-06-01 03:28:17.572000+00:00</td>\n",
       "      <td>484</td>\n",
       "      <td>487</td>\n",
       "      <td>Carl Berners plass nord</td>\n",
       "      <td>ved Hasleveien</td>\n",
       "      <td>59.926929</td>\n",
       "      <td>10.776971</td>\n",
       "      <td>437</td>\n",
       "      <td>Sentrum Scene</td>\n",
       "      <td>ved Arbeidersamfunnets plass</td>\n",
       "      <td>59.915468</td>\n",
       "      <td>10.751141</td>\n",
       "    </tr>\n",
       "    <tr>\n",
       "      <th>3</th>\n",
       "      <td>2021-06-01 03:20:23.861000+00:00</td>\n",
       "      <td>2021-06-01 03:36:15.564000+00:00</td>\n",
       "      <td>951</td>\n",
       "      <td>453</td>\n",
       "      <td>Frogner Stadion</td>\n",
       "      <td>ved hovedinngangen</td>\n",
       "      <td>59.927538</td>\n",
       "      <td>10.710263</td>\n",
       "      <td>557</td>\n",
       "      <td>Akersgata</td>\n",
       "      <td>ved Grensen</td>\n",
       "      <td>59.914197</td>\n",
       "      <td>10.742883</td>\n",
       "    </tr>\n",
       "    <tr>\n",
       "      <th>4</th>\n",
       "      <td>2021-06-01 03:33:35.436000+00:00</td>\n",
       "      <td>2021-06-01 03:39:03.942000+00:00</td>\n",
       "      <td>328</td>\n",
       "      <td>460</td>\n",
       "      <td>Botanisk Hage sør</td>\n",
       "      <td>langs Jens Bjelkes gate</td>\n",
       "      <td>59.915418</td>\n",
       "      <td>10.769330</td>\n",
       "      <td>495</td>\n",
       "      <td>Vaterlandsparken</td>\n",
       "      <td>langs Brugata</td>\n",
       "      <td>59.913516</td>\n",
       "      <td>10.757335</td>\n",
       "    </tr>\n",
       "  </tbody>\n",
       "</table>\n",
       "</div>"
      ],
      "text/plain": [
       "                        started_at                         ended_at  duration  \\\n",
       "0 2021-06-01 03:02:17.992000+00:00 2021-06-01 03:12:40.819000+00:00       622   \n",
       "1 2021-06-01 03:14:34.332000+00:00 2021-06-01 03:20:55.647000+00:00       381   \n",
       "2 2021-06-01 03:20:12.604000+00:00 2021-06-01 03:28:17.572000+00:00       484   \n",
       "3 2021-06-01 03:20:23.861000+00:00 2021-06-01 03:36:15.564000+00:00       951   \n",
       "4 2021-06-01 03:33:35.436000+00:00 2021-06-01 03:39:03.942000+00:00       328   \n",
       "\n",
       "   start_station_id         start_station_name start_station_description  \\\n",
       "0               381             Grønlands torg           ved Tøyenbekken   \n",
       "1               421  Alexander Kiellands Plass       langs Maridalsveien   \n",
       "2               487    Carl Berners plass nord            ved Hasleveien   \n",
       "3               453            Frogner Stadion        ved hovedinngangen   \n",
       "4               460          Botanisk Hage sør   langs Jens Bjelkes gate   \n",
       "\n",
       "   start_station_latitude  start_station_longitude  end_station_id  \\\n",
       "0               59.912520                10.762240             410   \n",
       "1               59.928067                10.751203             609   \n",
       "2               59.926929                10.776971             437   \n",
       "3               59.927538                10.710263             557   \n",
       "4               59.915418                10.769330             495   \n",
       "\n",
       "   end_station_name       end_station_description  end_station_latitude  \\\n",
       "0    Landstads gate            langs Uelands gate             59.929005   \n",
       "1  Fred Olsens gate          ved Karl Johans gate             59.911051   \n",
       "2     Sentrum Scene  ved Arbeidersamfunnets plass             59.915468   \n",
       "3         Akersgata                   ved Grensen             59.914197   \n",
       "4  Vaterlandsparken                 langs Brugata             59.913516   \n",
       "\n",
       "   end_station_longitude  \n",
       "0              10.749676  \n",
       "1              10.749374  \n",
       "2              10.751141  \n",
       "3              10.742883  \n",
       "4              10.757335  "
      ]
     },
     "execution_count": 5,
     "metadata": {},
     "output_type": "execute_result"
    }
   ],
   "source": [
    "bike_df.head()"
   ]
  },
  {
   "cell_type": "code",
   "execution_count": 6,
   "id": "6e54d3c7-8c47-4bea-a5b0-4d7dd6d94bf9",
   "metadata": {},
   "outputs": [
    {
     "data": {
      "text/plain": [
       "started_at                   datetime64[ns, UTC]\n",
       "ended_at                     datetime64[ns, UTC]\n",
       "duration                                   int64\n",
       "start_station_id                           int64\n",
       "start_station_name                        object\n",
       "start_station_description                 object\n",
       "start_station_latitude                   float64\n",
       "start_station_longitude                  float64\n",
       "end_station_id                             int64\n",
       "end_station_name                          object\n",
       "end_station_description                   object\n",
       "end_station_latitude                     float64\n",
       "end_station_longitude                    float64\n",
       "dtype: object"
      ]
     },
     "execution_count": 6,
     "metadata": {},
     "output_type": "execute_result"
    }
   ],
   "source": [
    "bike_df.dtypes"
   ]
  },
  {
   "cell_type": "markdown",
   "id": "af219f61-c2c4-4d0b-8486-86844331fe1c",
   "metadata": {},
   "source": [
    "# Basic Statistics"
   ]
  },
  {
   "cell_type": "code",
   "execution_count": 8,
   "id": "02529684-7601-4730-a0fa-f35b23d8a135",
   "metadata": {},
   "outputs": [
    {
     "data": {
      "text/html": [
       "<div>\n",
       "<style scoped>\n",
       "    .dataframe tbody tr th:only-of-type {\n",
       "        vertical-align: middle;\n",
       "    }\n",
       "\n",
       "    .dataframe tbody tr th {\n",
       "        vertical-align: top;\n",
       "    }\n",
       "\n",
       "    .dataframe thead th {\n",
       "        text-align: right;\n",
       "    }\n",
       "</style>\n",
       "<table border=\"1\" class=\"dataframe\">\n",
       "  <thead>\n",
       "    <tr style=\"text-align: right;\">\n",
       "      <th></th>\n",
       "      <th>duration</th>\n",
       "      <th>start_station_id</th>\n",
       "      <th>start_station_latitude</th>\n",
       "      <th>start_station_longitude</th>\n",
       "      <th>end_station_id</th>\n",
       "      <th>end_station_latitude</th>\n",
       "      <th>end_station_longitude</th>\n",
       "    </tr>\n",
       "  </thead>\n",
       "  <tbody>\n",
       "    <tr>\n",
       "      <th>count</th>\n",
       "      <td>217255.000000</td>\n",
       "      <td>217255.000000</td>\n",
       "      <td>217255.000000</td>\n",
       "      <td>217255.000000</td>\n",
       "      <td>217255.000000</td>\n",
       "      <td>217255.000000</td>\n",
       "      <td>217255.000000</td>\n",
       "    </tr>\n",
       "    <tr>\n",
       "      <th>mean</th>\n",
       "      <td>778.998200</td>\n",
       "      <td>523.798140</td>\n",
       "      <td>59.922098</td>\n",
       "      <td>10.746042</td>\n",
       "      <td>522.818738</td>\n",
       "      <td>59.919305</td>\n",
       "      <td>10.744647</td>\n",
       "    </tr>\n",
       "    <tr>\n",
       "      <th>std</th>\n",
       "      <td>850.462225</td>\n",
       "      <td>212.211107</td>\n",
       "      <td>0.010412</td>\n",
       "      <td>0.024325</td>\n",
       "      <td>199.696630</td>\n",
       "      <td>0.009350</td>\n",
       "      <td>0.023015</td>\n",
       "    </tr>\n",
       "    <tr>\n",
       "      <th>min</th>\n",
       "      <td>61.000000</td>\n",
       "      <td>377.000000</td>\n",
       "      <td>59.898126</td>\n",
       "      <td>10.651118</td>\n",
       "      <td>377.000000</td>\n",
       "      <td>59.898126</td>\n",
       "      <td>10.651118</td>\n",
       "    </tr>\n",
       "    <tr>\n",
       "      <th>25%</th>\n",
       "      <td>388.000000</td>\n",
       "      <td>429.000000</td>\n",
       "      <td>59.913979</td>\n",
       "      <td>10.730476</td>\n",
       "      <td>437.000000</td>\n",
       "      <td>59.912147</td>\n",
       "      <td>10.730981</td>\n",
       "    </tr>\n",
       "    <tr>\n",
       "      <th>50%</th>\n",
       "      <td>595.000000</td>\n",
       "      <td>488.000000</td>\n",
       "      <td>59.921206</td>\n",
       "      <td>10.749929</td>\n",
       "      <td>489.000000</td>\n",
       "      <td>59.917968</td>\n",
       "      <td>10.749676</td>\n",
       "    </tr>\n",
       "    <tr>\n",
       "      <th>75%</th>\n",
       "      <td>901.000000</td>\n",
       "      <td>564.000000</td>\n",
       "      <td>59.928434</td>\n",
       "      <td>10.762169</td>\n",
       "      <td>559.000000</td>\n",
       "      <td>59.925265</td>\n",
       "      <td>10.760324</td>\n",
       "    </tr>\n",
       "    <tr>\n",
       "      <th>max</th>\n",
       "      <td>75924.000000</td>\n",
       "      <td>2309.000000</td>\n",
       "      <td>59.953411</td>\n",
       "      <td>10.814314</td>\n",
       "      <td>2309.000000</td>\n",
       "      <td>59.953411</td>\n",
       "      <td>10.814314</td>\n",
       "    </tr>\n",
       "  </tbody>\n",
       "</table>\n",
       "</div>"
      ],
      "text/plain": [
       "            duration  start_station_id  start_station_latitude  \\\n",
       "count  217255.000000     217255.000000           217255.000000   \n",
       "mean      778.998200        523.798140               59.922098   \n",
       "std       850.462225        212.211107                0.010412   \n",
       "min        61.000000        377.000000               59.898126   \n",
       "25%       388.000000        429.000000               59.913979   \n",
       "50%       595.000000        488.000000               59.921206   \n",
       "75%       901.000000        564.000000               59.928434   \n",
       "max     75924.000000       2309.000000               59.953411   \n",
       "\n",
       "       start_station_longitude  end_station_id  end_station_latitude  \\\n",
       "count            217255.000000   217255.000000         217255.000000   \n",
       "mean                 10.746042      522.818738             59.919305   \n",
       "std                   0.024325      199.696630              0.009350   \n",
       "min                  10.651118      377.000000             59.898126   \n",
       "25%                  10.730476      437.000000             59.912147   \n",
       "50%                  10.749929      489.000000             59.917968   \n",
       "75%                  10.762169      559.000000             59.925265   \n",
       "max                  10.814314     2309.000000             59.953411   \n",
       "\n",
       "       end_station_longitude  \n",
       "count          217255.000000  \n",
       "mean               10.744647  \n",
       "std                 0.023015  \n",
       "min                10.651118  \n",
       "25%                10.730981  \n",
       "50%                10.749676  \n",
       "75%                10.760324  \n",
       "max                10.814314  "
      ]
     },
     "execution_count": 8,
     "metadata": {},
     "output_type": "execute_result"
    }
   ],
   "source": [
    "bike_df.describe()"
   ]
  },
  {
   "cell_type": "code",
   "execution_count": 10,
   "id": "96b7f729-938c-421f-84bd-d578139f0ed2",
   "metadata": {},
   "outputs": [
    {
     "data": {
      "text/plain": [
       "<AxesSubplot:ylabel='Frequency'>"
      ]
     },
     "execution_count": 10,
     "metadata": {},
     "output_type": "execute_result"
    },
    {
     "data": {
      "image/png": "[encoded data removed]",
      "text/plain": [
       "<Figure size 432x288 with 1 Axes>"
      ]
     },
     "metadata": {
      "needs_background": "light"
     },
     "output_type": "display_data"
    }
   ],
   "source": [
    "bike_df['duration'].plot.hist(bins=100)"
   ]
  },
  {
   "cell_type": "markdown",
   "id": "03274485-b5f0-410b-a059-d841304ba2dc",
   "metadata": {},
   "source": [
    "# Outliers"
   ]
  },
  {
   "cell_type": "code",
   "execution_count": 11,
   "id": "31c4a9a4-deb2-4302-8402-87385cd32b8d",
   "metadata": {},
   "outputs": [],
   "source": [
    "mu = bike_df['duration'].mean()\n",
    "sigma = bike_df['duration'].std()\n",
    "z_abs = np.abs(bike_df['duration'] - mu) / sigma"
   ]
  },
  {
   "cell_type": "code",
   "execution_count": 49,
   "id": "cb10634a-f664-4e0e-99b9-c7d11c6c2d84",
   "metadata": {},
   "outputs": [
    {
     "data": {
      "text/plain": [
       "<AxesSubplot:ylabel='Frequency'>"
      ]
     },
     "execution_count": 49,
     "metadata": {},
     "output_type": "execute_result"
    },
    {
     "data": {
      "image/png": "[encoded data removed]",
      "text/plain": [
       "<Figure size 432x288 with 1 Axes>"
      ]
     },
     "metadata": {
      "needs_background": "light"
     },
     "output_type": "display_data"
    }
   ],
   "source": [
    "bike_df[z_abs < 3]['duration'].plot.hist(bins=100)"
   ]
  },
  {
   "cell_type": "markdown",
   "id": "a5533887-7da5-4d13-82eb-48fdd8549092",
   "metadata": {},
   "source": [
    "# Working with timestamps (time series)"
   ]
  },
  {
   "cell_type": "code",
   "execution_count": 18,
   "id": "65c38a41-33e2-4923-8994-d94fdea85e3b",
   "metadata": {},
   "outputs": [
    {
     "data": {
      "text/plain": [
       "0        2021-06-01 03:02:17.992000+00:00\n",
       "1        2021-06-01 03:14:34.332000+00:00\n",
       "2        2021-06-01 03:20:12.604000+00:00\n",
       "3        2021-06-01 03:20:23.861000+00:00\n",
       "4        2021-06-01 03:33:35.436000+00:00\n",
       "                       ...               \n",
       "217250   2021-06-30 22:58:19.780000+00:00\n",
       "217251   2021-06-30 22:58:39.508000+00:00\n",
       "217252   2021-06-30 22:58:40.818000+00:00\n",
       "217253   2021-06-30 22:59:30.811000+00:00\n",
       "217254   2021-06-30 23:25:32.375000+00:00\n",
       "Name: started_at, Length: 217255, dtype: datetime64[ns, UTC]"
      ]
     },
     "execution_count": 18,
     "metadata": {},
     "output_type": "execute_result"
    }
   ],
   "source": [
    "bike_df['started_at']"
   ]
  },
  {
   "cell_type": "code",
   "execution_count": 19,
   "id": "343ba6ed-638f-4ae8-87a8-938de83790e4",
   "metadata": {},
   "outputs": [
    {
     "data": {
      "text/html": [
       "<div>\n",
       "<style scoped>\n",
       "    .dataframe tbody tr th:only-of-type {\n",
       "        vertical-align: middle;\n",
       "    }\n",
       "\n",
       "    .dataframe tbody tr th {\n",
       "        vertical-align: top;\n",
       "    }\n",
       "\n",
       "    .dataframe thead th {\n",
       "        text-align: right;\n",
       "    }\n",
       "</style>\n",
       "<table border=\"1\" class=\"dataframe\">\n",
       "  <thead>\n",
       "    <tr style=\"text-align: right;\">\n",
       "      <th></th>\n",
       "      <th>year</th>\n",
       "      <th>week</th>\n",
       "      <th>day</th>\n",
       "    </tr>\n",
       "  </thead>\n",
       "  <tbody>\n",
       "    <tr>\n",
       "      <th>0</th>\n",
       "      <td>2021</td>\n",
       "      <td>22</td>\n",
       "      <td>2</td>\n",
       "    </tr>\n",
       "    <tr>\n",
       "      <th>1</th>\n",
       "      <td>2021</td>\n",
       "      <td>22</td>\n",
       "      <td>2</td>\n",
       "    </tr>\n",
       "    <tr>\n",
       "      <th>2</th>\n",
       "      <td>2021</td>\n",
       "      <td>22</td>\n",
       "      <td>2</td>\n",
       "    </tr>\n",
       "    <tr>\n",
       "      <th>3</th>\n",
       "      <td>2021</td>\n",
       "      <td>22</td>\n",
       "      <td>2</td>\n",
       "    </tr>\n",
       "    <tr>\n",
       "      <th>4</th>\n",
       "      <td>2021</td>\n",
       "      <td>22</td>\n",
       "      <td>2</td>\n",
       "    </tr>\n",
       "    <tr>\n",
       "      <th>...</th>\n",
       "      <td>...</td>\n",
       "      <td>...</td>\n",
       "      <td>...</td>\n",
       "    </tr>\n",
       "    <tr>\n",
       "      <th>217250</th>\n",
       "      <td>2021</td>\n",
       "      <td>26</td>\n",
       "      <td>3</td>\n",
       "    </tr>\n",
       "    <tr>\n",
       "      <th>217251</th>\n",
       "      <td>2021</td>\n",
       "      <td>26</td>\n",
       "      <td>3</td>\n",
       "    </tr>\n",
       "    <tr>\n",
       "      <th>217252</th>\n",
       "      <td>2021</td>\n",
       "      <td>26</td>\n",
       "      <td>3</td>\n",
       "    </tr>\n",
       "    <tr>\n",
       "      <th>217253</th>\n",
       "      <td>2021</td>\n",
       "      <td>26</td>\n",
       "      <td>3</td>\n",
       "    </tr>\n",
       "    <tr>\n",
       "      <th>217254</th>\n",
       "      <td>2021</td>\n",
       "      <td>26</td>\n",
       "      <td>3</td>\n",
       "    </tr>\n",
       "  </tbody>\n",
       "</table>\n",
       "<p>217255 rows × 3 columns</p>\n",
       "</div>"
      ],
      "text/plain": [
       "        year  week  day\n",
       "0       2021    22    2\n",
       "1       2021    22    2\n",
       "2       2021    22    2\n",
       "3       2021    22    2\n",
       "4       2021    22    2\n",
       "...      ...   ...  ...\n",
       "217250  2021    26    3\n",
       "217251  2021    26    3\n",
       "217252  2021    26    3\n",
       "217253  2021    26    3\n",
       "217254  2021    26    3\n",
       "\n",
       "[217255 rows x 3 columns]"
      ]
     },
     "execution_count": 19,
     "metadata": {},
     "output_type": "execute_result"
    }
   ],
   "source": [
    "bike_df['started_at'].dt.isocalendar()"
   ]
  },
  {
   "cell_type": "code",
   "execution_count": 20,
   "id": "d3dd477c-d5c1-4b31-81d0-365f3c1e76f6",
   "metadata": {},
   "outputs": [
    {
     "data": {
      "text/plain": [
       "0         2\n",
       "1         2\n",
       "2         2\n",
       "3         2\n",
       "4         2\n",
       "         ..\n",
       "217250    3\n",
       "217251    3\n",
       "217252    3\n",
       "217253    3\n",
       "217254    3\n",
       "Name: day, Length: 217255, dtype: UInt32"
      ]
     },
     "execution_count": 20,
     "metadata": {},
     "output_type": "execute_result"
    }
   ],
   "source": [
    "bike_df['started_at'].dt.isocalendar()['day']"
   ]
  },
  {
   "cell_type": "code",
   "execution_count": 21,
   "id": "37126ee3-9a6f-49e7-a3f6-746e4ac6c975",
   "metadata": {},
   "outputs": [
    {
     "data": {
      "text/plain": [
       "<IntegerArray>\n",
       "[2, 3, 4, 5, 6, 7, 1]\n",
       "Length: 7, dtype: UInt32"
      ]
     },
     "execution_count": 21,
     "metadata": {},
     "output_type": "execute_result"
    }
   ],
   "source": [
    "bike_df['started_at'].dt.isocalendar()['day'].unique()"
   ]
  },
  {
   "cell_type": "code",
   "execution_count": 23,
   "id": "661c98c8-7f39-45f4-8d12-24533fe2296d",
   "metadata": {},
   "outputs": [
    {
     "data": {
      "text/plain": [
       "0         1\n",
       "1         1\n",
       "2         1\n",
       "3         1\n",
       "4         1\n",
       "         ..\n",
       "217250    2\n",
       "217251    2\n",
       "217252    2\n",
       "217253    2\n",
       "217254    2\n",
       "Name: started_at, Length: 217255, dtype: int64"
      ]
     },
     "execution_count": 23,
     "metadata": {},
     "output_type": "execute_result"
    }
   ],
   "source": [
    "bike_df['started_at'].dt.weekday"
   ]
  },
  {
   "cell_type": "code",
   "execution_count": 25,
   "id": "e3e133a9-817d-4b9d-808f-f26a88f6d6db",
   "metadata": {},
   "outputs": [],
   "source": [
    "counts = pd.Series(1, index=bike_df['started_at'])"
   ]
  },
  {
   "cell_type": "code",
   "execution_count": 26,
   "id": "d56e99ab-f99f-4c73-aeb3-009f5186005a",
   "metadata": {},
   "outputs": [
    {
     "data": {
      "text/plain": [
       "started_at\n",
       "2021-06-01 03:02:17.992000+00:00    1\n",
       "2021-06-01 03:14:34.332000+00:00    1\n",
       "2021-06-01 03:20:12.604000+00:00    1\n",
       "2021-06-01 03:20:23.861000+00:00    1\n",
       "2021-06-01 03:33:35.436000+00:00    1\n",
       "                                   ..\n",
       "2021-06-30 22:58:19.780000+00:00    1\n",
       "2021-06-30 22:58:39.508000+00:00    1\n",
       "2021-06-30 22:58:40.818000+00:00    1\n",
       "2021-06-30 22:59:30.811000+00:00    1\n",
       "2021-06-30 23:25:32.375000+00:00    1\n",
       "Length: 217255, dtype: int64"
      ]
     },
     "execution_count": 26,
     "metadata": {},
     "output_type": "execute_result"
    }
   ],
   "source": [
    "counts"
   ]
  },
  {
   "cell_type": "code",
   "execution_count": 27,
   "id": "5a58c004-1edc-458c-a276-793f12ec59d9",
   "metadata": {},
   "outputs": [],
   "source": [
    "hourly = counts.resample('1h')"
   ]
  },
  {
   "cell_type": "code",
   "execution_count": 28,
   "id": "5ab38b0e-5158-48db-9e25-5b50d52c7db9",
   "metadata": {},
   "outputs": [
    {
     "data": {
      "text/plain": [
       "<pandas.core.resample.DatetimeIndexResampler object at 0x12bd900a0>"
      ]
     },
     "execution_count": 28,
     "metadata": {},
     "output_type": "execute_result"
    }
   ],
   "source": [
    "hourly"
   ]
  },
  {
   "cell_type": "code",
   "execution_count": 29,
   "id": "3430a236-d580-4097-a1b4-f785baecf2a1",
   "metadata": {},
   "outputs": [
    {
     "data": {
      "text/plain": [
       "started_at\n",
       "2021-06-01 03:00:00+00:00    1.0\n",
       "2021-06-01 04:00:00+00:00    1.0\n",
       "2021-06-01 05:00:00+00:00    1.0\n",
       "2021-06-01 06:00:00+00:00    1.0\n",
       "2021-06-01 07:00:00+00:00    1.0\n",
       "                            ... \n",
       "2021-06-30 19:00:00+00:00    1.0\n",
       "2021-06-30 20:00:00+00:00    1.0\n",
       "2021-06-30 21:00:00+00:00    1.0\n",
       "2021-06-30 22:00:00+00:00    1.0\n",
       "2021-06-30 23:00:00+00:00    1.0\n",
       "Freq: H, Length: 717, dtype: float64"
      ]
     },
     "execution_count": 29,
     "metadata": {},
     "output_type": "execute_result"
    }
   ],
   "source": [
    "hourly.mean() # not so interesting"
   ]
  },
  {
   "cell_type": "code",
   "execution_count": 31,
   "id": "4306e07b-271a-472d-bc86-83e093b99a81",
   "metadata": {},
   "outputs": [
    {
     "data": {
      "text/plain": [
       "started_at\n",
       "2021-06-01 03:00:00+00:00     27\n",
       "2021-06-01 04:00:00+00:00    138\n",
       "2021-06-01 05:00:00+00:00    498\n",
       "2021-06-01 06:00:00+00:00    672\n",
       "2021-06-01 07:00:00+00:00    362\n",
       "                            ... \n",
       "2021-06-30 19:00:00+00:00    410\n",
       "2021-06-30 20:00:00+00:00    316\n",
       "2021-06-30 21:00:00+00:00    200\n",
       "2021-06-30 22:00:00+00:00    120\n",
       "2021-06-30 23:00:00+00:00      1\n",
       "Freq: H, Length: 717, dtype: int64"
      ]
     },
     "execution_count": 31,
     "metadata": {},
     "output_type": "execute_result"
    }
   ],
   "source": [
    "hc = hourly.sum()\n",
    "hc"
   ]
  },
  {
   "cell_type": "code",
   "execution_count": 32,
   "id": "4ae0e009-7fe9-440e-ad99-0202c424d81e",
   "metadata": {},
   "outputs": [
    {
     "data": {
      "text/plain": [
       "started_at\n",
       "2021-06-02 00:00:00+00:00      0\n",
       "2021-06-02 01:00:00+00:00      0\n",
       "2021-06-02 02:00:00+00:00      0\n",
       "2021-06-02 03:00:00+00:00     29\n",
       "2021-06-02 04:00:00+00:00    154\n",
       "2021-06-02 05:00:00+00:00    494\n",
       "2021-06-02 06:00:00+00:00    647\n",
       "2021-06-02 07:00:00+00:00    338\n",
       "2021-06-02 08:00:00+00:00    302\n",
       "2021-06-02 09:00:00+00:00    386\n",
       "2021-06-02 10:00:00+00:00    357\n",
       "2021-06-02 11:00:00+00:00    387\n",
       "2021-06-02 12:00:00+00:00    429\n",
       "2021-06-02 13:00:00+00:00    650\n",
       "2021-06-02 14:00:00+00:00    872\n",
       "2021-06-02 15:00:00+00:00    848\n",
       "2021-06-02 16:00:00+00:00    675\n",
       "2021-06-02 17:00:00+00:00    591\n",
       "2021-06-02 18:00:00+00:00    467\n",
       "2021-06-02 19:00:00+00:00    445\n",
       "2021-06-02 20:00:00+00:00    405\n",
       "2021-06-02 21:00:00+00:00    155\n",
       "2021-06-02 22:00:00+00:00     62\n",
       "2021-06-02 23:00:00+00:00      0\n",
       "Freq: H, dtype: int64"
      ]
     },
     "execution_count": 32,
     "metadata": {},
     "output_type": "execute_result"
    }
   ],
   "source": [
    "hc.loc[\"2021-06-02\"]"
   ]
  },
  {
   "cell_type": "code",
   "execution_count": 33,
   "id": "7b15899c-7635-4ecc-84ac-625b2e9055c7",
   "metadata": {},
   "outputs": [
    {
     "data": {
      "text/plain": [
       "<AxesSubplot:xlabel='started_at'>"
      ]
     },
     "execution_count": 33,
     "metadata": {},
     "output_type": "execute_result"
    },
    {
     "data": {
      "image/png": "[encoded data removed]",
      "text/plain": [
       "<Figure size 432x288 with 1 Axes>"
      ]
     },
     "metadata": {
      "needs_background": "light"
     },
     "output_type": "display_data"
    }
   ],
   "source": [
    "hc.loc[\"2021-06-02\"].plot.line()"
   ]
  },
  {
   "cell_type": "code",
   "execution_count": 34,
   "id": "77bc9fc6-a449-439f-9c85-9c149d49cc03",
   "metadata": {},
   "outputs": [
    {
     "data": {
      "text/plain": [
       "<AxesSubplot:xlabel='started_at'>"
      ]
     },
     "execution_count": 34,
     "metadata": {},
     "output_type": "execute_result"
    },
    {
     "data": {
      "image/png": "[encoded data removed]",
      "text/plain": [
       "<Figure size 432x288 with 1 Axes>"
      ]
     },
     "metadata": {
      "needs_background": "light"
     },
     "output_type": "display_data"
    }
   ],
   "source": [
    "hc.loc[\"2021-06-02\":\"2021-06-03\"].plot.line()"
   ]
  },
  {
   "cell_type": "code",
   "execution_count": 35,
   "id": "e1cd51a4-824a-4e55-864b-c6d2e94185b9",
   "metadata": {},
   "outputs": [],
   "source": [
    "mc = counts.resample('5min').sum()"
   ]
  },
  {
   "cell_type": "code",
   "execution_count": 36,
   "id": "adb7be13-5d94-4c0e-afd4-66102b887a97",
   "metadata": {},
   "outputs": [
    {
     "data": {
      "text/plain": [
       "<AxesSubplot:xlabel='started_at'>"
      ]
     },
     "execution_count": 36,
     "metadata": {},
     "output_type": "execute_result"
    },
    {
     "data": {
      "image/png": "[encoded data removed]",
      "text/plain": [
       "<Figure size 432x288 with 1 Axes>"
      ]
     },
     "metadata": {
      "needs_background": "light"
     },
     "output_type": "display_data"
    }
   ],
   "source": [
    "mc.loc[\"2021-06-02\":\"2021-06-03\"].plot.line()"
   ]
  },
  {
   "cell_type": "code",
   "execution_count": 37,
   "id": "5e2f17bd-d05f-4945-bbb0-007c5cf26f6a",
   "metadata": {},
   "outputs": [
    {
     "data": {
      "text/plain": [
       "<AxesSubplot:xlabel='started_at'>"
      ]
     },
     "execution_count": 37,
     "metadata": {},
     "output_type": "execute_result"
    },
    {
     "data": {
      "image/png": "[encoded data removed]",
      "text/plain": [
       "<Figure size 432x288 with 1 Axes>"
      ]
     },
     "metadata": {
      "needs_background": "light"
     },
     "output_type": "display_data"
    }
   ],
   "source": [
    "mc.loc[\"2021-06-02\":\"2021-06-03\"].rolling(window=6).mean().plot.line()"
   ]
  },
  {
   "cell_type": "code",
   "execution_count": 38,
   "id": "22fcac18-3ba6-4f03-a411-413af247d3c1",
   "metadata": {},
   "outputs": [
    {
     "data": {
      "text/plain": [
       "<AxesSubplot:xlabel='started_at'>"
      ]
     },
     "execution_count": 38,
     "metadata": {},
     "output_type": "execute_result"
    },
    {
     "data": {
      "image/png": "[encoded data removed]",
      "text/plain": [
       "<Figure size 432x288 with 1 Axes>"
      ]
     },
     "metadata": {
      "needs_background": "light"
     },
     "output_type": "display_data"
    }
   ],
   "source": [
    "mc.loc[\"2021-06-02\":\"2021-06-03\"].rolling(window=6, win_type=\"gaussian\").mean(std=2).plot.line()"
   ]
  },
  {
   "cell_type": "markdown",
   "id": "07391cfd-feae-41c5-ba2a-b1badeb70556",
   "metadata": {},
   "source": [
    "# Group-by"
   ]
  },
  {
   "cell_type": "code",
   "execution_count": 39,
   "id": "c882ae40-e020-4327-8407-6dd37a06ae88",
   "metadata": {},
   "outputs": [],
   "source": [
    "by_start = bike_df.groupby('start_station_name')['duration']"
   ]
  },
  {
   "cell_type": "code",
   "execution_count": 40,
   "id": "d7dccf5f-ac21-4bf2-b288-17a3fc4ad3db",
   "metadata": {},
   "outputs": [
    {
     "data": {
      "text/plain": [
       "start_station_name\n",
       "7 Juni Plassen                648.137856\n",
       "AHO                           679.372656\n",
       "Adamstuen                     685.229205\n",
       "Aker Brygge                  1034.586466\n",
       "Akersgata                     633.184083\n",
       "                                ...     \n",
       "Vulkan                        661.908549\n",
       "Vålerenga                     832.292906\n",
       "Vår Frelsers gravlund sør     588.779419\n",
       "Økern Portal                 1141.980392\n",
       "Økernveien                    727.537415\n",
       "Name: duration, Length: 253, dtype: float64"
      ]
     },
     "execution_count": 40,
     "metadata": {},
     "output_type": "execute_result"
    }
   ],
   "source": [
    "by_start.mean()"
   ]
  },
  {
   "cell_type": "code",
   "execution_count": 42,
   "id": "ed16c8c1-43d4-41de-86f4-e03fdfcb0f92",
   "metadata": {},
   "outputs": [
    {
     "data": {
      "text/plain": [
       "start_station_name\n",
       "Vår Frelsers gravlund sør     588.779419\n",
       "St. Hanshaugen park nord      594.034913\n",
       "Ila                           602.107097\n",
       "Hallings gate                 603.601423\n",
       "Oslo Plaza                    609.202677\n",
       "                                ...     \n",
       "Jarlsborgveien               1219.220657\n",
       "Skøyen Stasjon               1299.363184\n",
       "Norsk Folkemuseum            1394.745958\n",
       "Furulund                     1482.874372\n",
       "Huk                          1792.636261\n",
       "Name: duration, Length: 253, dtype: float64"
      ]
     },
     "execution_count": 42,
     "metadata": {},
     "output_type": "execute_result"
    }
   ],
   "source": [
    "by_start.mean().sort_values()"
   ]
  },
  {
   "cell_type": "code",
   "execution_count": 43,
   "id": "49fa110a-3116-42a0-931a-6cd7009af3ac",
   "metadata": {},
   "outputs": [
    {
     "data": {
      "text/plain": [
       "0         846.493952\n",
       "1         672.149312\n",
       "2         714.272182\n",
       "3         867.746914\n",
       "4         722.256127\n",
       "             ...    \n",
       "217250    781.908287\n",
       "217251    670.564659\n",
       "217252    672.149312\n",
       "217253    764.468235\n",
       "217254    609.202677\n",
       "Name: duration, Length: 217255, dtype: float64"
      ]
     },
     "execution_count": 43,
     "metadata": {},
     "output_type": "execute_result"
    }
   ],
   "source": [
    "by_start.transform('mean')"
   ]
  },
  {
   "cell_type": "code",
   "execution_count": 44,
   "id": "43cdd0b6-13be-492b-81d5-8c8f2f24fd10",
   "metadata": {},
   "outputs": [],
   "source": [
    "mu_g = by_start.transform('mean')\n",
    "sigma_g = by_start.transform('std')"
   ]
  },
  {
   "cell_type": "code",
   "execution_count": 45,
   "id": "548ae5a9-84b9-4790-b113-b3072b5b1560",
   "metadata": {},
   "outputs": [],
   "source": [
    "group_z_abs = np.abs(bike_df['duration'] - mu_g) / sigma_g"
   ]
  },
  {
   "cell_type": "code",
   "execution_count": 48,
   "id": "848d74b3-ca62-4cb6-aa0e-14914eace130",
   "metadata": {},
   "outputs": [
    {
     "data": {
      "text/plain": [
       "<AxesSubplot:ylabel='Frequency'>"
      ]
     },
     "execution_count": 48,
     "metadata": {},
     "output_type": "execute_result"
    },
    {
     "data": {
      "image/png": "[encoded data removed]",
      "text/plain": [
       "<Figure size 432x288 with 1 Axes>"
      ]
     },
     "metadata": {
      "needs_background": "light"
     },
     "output_type": "display_data"
    }
   ],
   "source": [
    "bike_df[group_z_abs < 3]['duration'].plot.hist(bins=100)"
   ]
  },
  {
   "cell_type": "code",
   "execution_count": 50,
   "id": "48c70354-32c8-4fb1-9f11-3e2d1df1ba0c",
   "metadata": {},
   "outputs": [
    {
     "data": {
      "text/plain": [
       "0           Tuesday\n",
       "1           Tuesday\n",
       "2           Tuesday\n",
       "3           Tuesday\n",
       "4           Tuesday\n",
       "            ...    \n",
       "217250    Wednesday\n",
       "217251    Wednesday\n",
       "217252    Wednesday\n",
       "217253    Wednesday\n",
       "217254    Wednesday\n",
       "Name: started_at, Length: 217255, dtype: object"
      ]
     },
     "execution_count": 50,
     "metadata": {},
     "output_type": "execute_result"
    }
   ],
   "source": [
    "bike_df['started_at'].dt.day_name()"
   ]
  },
  {
   "cell_type": "code",
   "execution_count": 51,
   "id": "b3be5bfd-2b5c-468e-a807-34ef51db17b0",
   "metadata": {},
   "outputs": [
    {
     "data": {
      "text/plain": [
       "started_at\n",
       "Friday       31975\n",
       "Monday       24914\n",
       "Saturday     25782\n",
       "Sunday       17357\n",
       "Thursday     33368\n",
       "Tuesday      40864\n",
       "Wednesday    42995\n",
       "dtype: int64"
      ]
     },
     "execution_count": 51,
     "metadata": {},
     "output_type": "execute_result"
    }
   ],
   "source": [
    "bike_df.groupby(bike_df['started_at'].dt.day_name()).size()"
   ]
  },
  {
   "cell_type": "code",
   "execution_count": 53,
   "id": "a9a84e13-5659-4002-a49b-6ddee756822a",
   "metadata": {},
   "outputs": [
    {
     "data": {
      "text/plain": [
       "<AxesSubplot:xlabel='started_at'>"
      ]
     },
     "execution_count": 53,
     "metadata": {},
     "output_type": "execute_result"
    },
    {
     "data": {
      "image/png": "[encoded data removed]",
      "text/plain": [
       "<Figure size 432x288 with 1 Axes>"
      ]
     },
     "metadata": {
      "needs_background": "light"
     },
     "output_type": "display_data"
    }
   ],
   "source": [
    "bike_df.groupby(bike_df['started_at'].dt.day_name()).size().plot.bar()"
   ]
  },
  {
   "cell_type": "code",
   "execution_count": 55,
   "id": "f5f4afd8-6380-4ab3-8b0f-7746530d3f90",
   "metadata": {},
   "outputs": [],
   "source": [
    "by_day_week = bike_df.groupby([bike_df['started_at'].dt.day_name(),\n",
    "                 bike_df['started_at'].dt.isocalendar().week]).size()"
   ]
  },
  {
   "cell_type": "code",
   "execution_count": 57,
   "id": "682b3ae0-b5e7-4fc0-bed4-eb0786657762",
   "metadata": {},
   "outputs": [
    {
     "data": {
      "text/html": [
       "<div>\n",
       "<style scoped>\n",
       "    .dataframe tbody tr th:only-of-type {\n",
       "        vertical-align: middle;\n",
       "    }\n",
       "\n",
       "    .dataframe tbody tr th {\n",
       "        vertical-align: top;\n",
       "    }\n",
       "\n",
       "    .dataframe thead th {\n",
       "        text-align: right;\n",
       "    }\n",
       "</style>\n",
       "<table border=\"1\" class=\"dataframe\">\n",
       "  <thead>\n",
       "    <tr style=\"text-align: right;\">\n",
       "      <th>started_at</th>\n",
       "      <th>Friday</th>\n",
       "      <th>Monday</th>\n",
       "      <th>Saturday</th>\n",
       "      <th>Sunday</th>\n",
       "      <th>Thursday</th>\n",
       "      <th>Tuesday</th>\n",
       "      <th>Wednesday</th>\n",
       "    </tr>\n",
       "    <tr>\n",
       "      <th>week</th>\n",
       "      <th></th>\n",
       "      <th></th>\n",
       "      <th></th>\n",
       "      <th></th>\n",
       "      <th></th>\n",
       "      <th></th>\n",
       "      <th></th>\n",
       "    </tr>\n",
       "  </thead>\n",
       "  <tbody>\n",
       "    <tr>\n",
       "      <th>22</th>\n",
       "      <td>8788.0</td>\n",
       "      <td>NaN</td>\n",
       "      <td>7475.0</td>\n",
       "      <td>5120.0</td>\n",
       "      <td>8808.0</td>\n",
       "      <td>8593.0</td>\n",
       "      <td>8693.0</td>\n",
       "    </tr>\n",
       "    <tr>\n",
       "      <th>23</th>\n",
       "      <td>7613.0</td>\n",
       "      <td>7017.0</td>\n",
       "      <td>6940.0</td>\n",
       "      <td>5338.0</td>\n",
       "      <td>8498.0</td>\n",
       "      <td>8337.0</td>\n",
       "      <td>8844.0</td>\n",
       "    </tr>\n",
       "    <tr>\n",
       "      <th>24</th>\n",
       "      <td>7770.0</td>\n",
       "      <td>5420.0</td>\n",
       "      <td>5282.0</td>\n",
       "      <td>3023.0</td>\n",
       "      <td>7702.0</td>\n",
       "      <td>9068.0</td>\n",
       "      <td>8190.0</td>\n",
       "    </tr>\n",
       "    <tr>\n",
       "      <th>25</th>\n",
       "      <td>7804.0</td>\n",
       "      <td>5128.0</td>\n",
       "      <td>6085.0</td>\n",
       "      <td>3876.0</td>\n",
       "      <td>8360.0</td>\n",
       "      <td>7167.0</td>\n",
       "      <td>9235.0</td>\n",
       "    </tr>\n",
       "    <tr>\n",
       "      <th>26</th>\n",
       "      <td>NaN</td>\n",
       "      <td>7349.0</td>\n",
       "      <td>NaN</td>\n",
       "      <td>NaN</td>\n",
       "      <td>NaN</td>\n",
       "      <td>7699.0</td>\n",
       "      <td>8033.0</td>\n",
       "    </tr>\n",
       "  </tbody>\n",
       "</table>\n",
       "</div>"
      ],
      "text/plain": [
       "started_at  Friday  Monday  Saturday  Sunday  Thursday  Tuesday  Wednesday\n",
       "week                                                                      \n",
       "22          8788.0     NaN    7475.0  5120.0    8808.0   8593.0     8693.0\n",
       "23          7613.0  7017.0    6940.0  5338.0    8498.0   8337.0     8844.0\n",
       "24          7770.0  5420.0    5282.0  3023.0    7702.0   9068.0     8190.0\n",
       "25          7804.0  5128.0    6085.0  3876.0    8360.0   7167.0     9235.0\n",
       "26             NaN  7349.0       NaN     NaN       NaN   7699.0     8033.0"
      ]
     },
     "execution_count": 57,
     "metadata": {},
     "output_type": "execute_result"
    }
   ],
   "source": [
    "by_day_week.unstack().T"
   ]
  }
 ],
 "metadata": {
  "kernelspec": {
   "display_name": "Python 3 (ipykernel)",
   "language": "python",
   "name": "python3"
  },
  "language_info": {
   "codemirror_mode": {
    "name": "ipython",
    "version": 3
   },
   "file_extension": ".py",
   "mimetype": "text/x-python",
   "name": "python",
   "nbconvert_exporter": "python",
   "pygments_lexer": "ipython3",
   "version": "3.9.6"
  }
 },
 "nbformat": 4,
 "nbformat_minor": 5
}
