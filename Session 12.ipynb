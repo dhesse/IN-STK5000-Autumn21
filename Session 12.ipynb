{
 "cells": [
  {
   "cell_type": "code",
   "execution_count": 1,
   "id": "05702c8e-2da1-4ba8-83cd-424f1c2db47e",
   "metadata": {},
   "outputs": [],
   "source": [
    "import pandas\n",
    "import seaborn as sns\n",
    "\n",
    "sns.set_theme()"
   ]
  },
  {
   "cell_type": "code",
   "execution_count": 4,
   "id": "d3c04194-bfe5-4764-9a01-19cfb406c007",
   "metadata": {},
   "outputs": [],
   "source": [
    "url = 'https://raw.githubusercontent.com/datasciencedojo/datasets/master/titanic.csv'"
   ]
  },
  {
   "cell_type": "code",
   "execution_count": 5,
   "id": "28078b34-8400-423d-af69-5e46497db93d",
   "metadata": {},
   "outputs": [],
   "source": [
    "titanic = pandas.read_csv(url)"
   ]
  },
  {
   "cell_type": "code",
   "execution_count": 6,
   "id": "19c8667e-20a4-4be9-b39b-f55106475ff1",
   "metadata": {},
   "outputs": [
    {
     "data": {
      "text/html": [
       "<div>\n",
       "<style scoped>\n",
       "    .dataframe tbody tr th:only-of-type {\n",
       "        vertical-align: middle;\n",
       "    }\n",
       "\n",
       "    .dataframe tbody tr th {\n",
       "        vertical-align: top;\n",
       "    }\n",
       "\n",
       "    .dataframe thead th {\n",
       "        text-align: right;\n",
       "    }\n",
       "</style>\n",
       "<table border=\"1\" class=\"dataframe\">\n",
       "  <thead>\n",
       "    <tr style=\"text-align: right;\">\n",
       "      <th></th>\n",
       "      <th>PassengerId</th>\n",
       "      <th>Survived</th>\n",
       "      <th>Pclass</th>\n",
       "      <th>Name</th>\n",
       "      <th>Sex</th>\n",
       "      <th>Age</th>\n",
       "      <th>SibSp</th>\n",
       "      <th>Parch</th>\n",
       "      <th>Ticket</th>\n",
       "      <th>Fare</th>\n",
       "      <th>Cabin</th>\n",
       "      <th>Embarked</th>\n",
       "    </tr>\n",
       "  </thead>\n",
       "  <tbody>\n",
       "    <tr>\n",
       "      <th>0</th>\n",
       "      <td>1</td>\n",
       "      <td>0</td>\n",
       "      <td>3</td>\n",
       "      <td>Braund, Mr. Owen Harris</td>\n",
       "      <td>male</td>\n",
       "      <td>22.0</td>\n",
       "      <td>1</td>\n",
       "      <td>0</td>\n",
       "      <td>A/5 21171</td>\n",
       "      <td>7.2500</td>\n",
       "      <td>NaN</td>\n",
       "      <td>S</td>\n",
       "    </tr>\n",
       "    <tr>\n",
       "      <th>1</th>\n",
       "      <td>2</td>\n",
       "      <td>1</td>\n",
       "      <td>1</td>\n",
       "      <td>Cumings, Mrs. John Bradley (Florence Briggs Th...</td>\n",
       "      <td>female</td>\n",
       "      <td>38.0</td>\n",
       "      <td>1</td>\n",
       "      <td>0</td>\n",
       "      <td>PC 17599</td>\n",
       "      <td>71.2833</td>\n",
       "      <td>C85</td>\n",
       "      <td>C</td>\n",
       "    </tr>\n",
       "    <tr>\n",
       "      <th>2</th>\n",
       "      <td>3</td>\n",
       "      <td>1</td>\n",
       "      <td>3</td>\n",
       "      <td>Heikkinen, Miss. Laina</td>\n",
       "      <td>female</td>\n",
       "      <td>26.0</td>\n",
       "      <td>0</td>\n",
       "      <td>0</td>\n",
       "      <td>STON/O2. 3101282</td>\n",
       "      <td>7.9250</td>\n",
       "      <td>NaN</td>\n",
       "      <td>S</td>\n",
       "    </tr>\n",
       "    <tr>\n",
       "      <th>3</th>\n",
       "      <td>4</td>\n",
       "      <td>1</td>\n",
       "      <td>1</td>\n",
       "      <td>Futrelle, Mrs. Jacques Heath (Lily May Peel)</td>\n",
       "      <td>female</td>\n",
       "      <td>35.0</td>\n",
       "      <td>1</td>\n",
       "      <td>0</td>\n",
       "      <td>113803</td>\n",
       "      <td>53.1000</td>\n",
       "      <td>C123</td>\n",
       "      <td>S</td>\n",
       "    </tr>\n",
       "    <tr>\n",
       "      <th>4</th>\n",
       "      <td>5</td>\n",
       "      <td>0</td>\n",
       "      <td>3</td>\n",
       "      <td>Allen, Mr. William Henry</td>\n",
       "      <td>male</td>\n",
       "      <td>35.0</td>\n",
       "      <td>0</td>\n",
       "      <td>0</td>\n",
       "      <td>373450</td>\n",
       "      <td>8.0500</td>\n",
       "      <td>NaN</td>\n",
       "      <td>S</td>\n",
       "    </tr>\n",
       "  </tbody>\n",
       "</table>\n",
       "</div>"
      ],
      "text/plain": [
       "   PassengerId  Survived  Pclass  \\\n",
       "0            1         0       3   \n",
       "1            2         1       1   \n",
       "2            3         1       3   \n",
       "3            4         1       1   \n",
       "4            5         0       3   \n",
       "\n",
       "                                                Name     Sex   Age  SibSp  \\\n",
       "0                            Braund, Mr. Owen Harris    male  22.0      1   \n",
       "1  Cumings, Mrs. John Bradley (Florence Briggs Th...  female  38.0      1   \n",
       "2                             Heikkinen, Miss. Laina  female  26.0      0   \n",
       "3       Futrelle, Mrs. Jacques Heath (Lily May Peel)  female  35.0      1   \n",
       "4                           Allen, Mr. William Henry    male  35.0      0   \n",
       "\n",
       "   Parch            Ticket     Fare Cabin Embarked  \n",
       "0      0         A/5 21171   7.2500   NaN        S  \n",
       "1      0          PC 17599  71.2833   C85        C  \n",
       "2      0  STON/O2. 3101282   7.9250   NaN        S  \n",
       "3      0            113803  53.1000  C123        S  \n",
       "4      0            373450   8.0500   NaN        S  "
      ]
     },
     "execution_count": 6,
     "metadata": {},
     "output_type": "execute_result"
    }
   ],
   "source": [
    "titanic.head()"
   ]
  },
  {
   "cell_type": "code",
   "execution_count": 9,
   "id": "771ee2d1-f894-42ea-b940-935ea993b712",
   "metadata": {},
   "outputs": [
    {
     "data": {
      "text/plain": [
       "<seaborn.axisgrid.FacetGrid at 0x16d30c4f0>"
      ]
     },
     "execution_count": 9,
     "metadata": {},
     "output_type": "execute_result"
    },
    {
     "data": {
      "image/png": "[encoded data removed]",
      "text/plain": [
       "<Figure size 415.55x360 with 1 Axes>"
      ]
     },
     "metadata": {},
     "output_type": "display_data"
    }
   ],
   "source": [
    "sns.catplot(data=titanic, hue='Survived', x='Pclass', kind='count')"
   ]
  },
  {
   "cell_type": "code",
   "execution_count": 10,
   "id": "68849663-f3fe-45ee-a07b-82358fac3ad4",
   "metadata": {},
   "outputs": [
    {
     "data": {
      "text/plain": [
       "<seaborn.axisgrid.FacetGrid at 0x16d319fa0>"
      ]
     },
     "execution_count": 10,
     "metadata": {},
     "output_type": "execute_result"
    },
    {
     "data": {
      "image/png": "[encoded data removed]",
      "text/plain": [
       "<Figure size 415.55x360 with 1 Axes>"
      ]
     },
     "metadata": {},
     "output_type": "display_data"
    }
   ],
   "source": [
    "sns.catplot(data=titanic, hue='Survived', x='Sex', kind='count')"
   ]
  },
  {
   "cell_type": "code",
   "execution_count": 11,
   "id": "71463c50-5e6f-4738-b5cb-5eabc6467c5d",
   "metadata": {},
   "outputs": [
    {
     "data": {
      "text/plain": [
       "<seaborn.axisgrid.FacetGrid at 0x16d9e6880>"
      ]
     },
     "execution_count": 11,
     "metadata": {},
     "output_type": "execute_result"
    },
    {
     "data": {
      "image/png": "[encoded data removed]",
      "text/plain": [
       "<Figure size 360x360 with 1 Axes>"
      ]
     },
     "metadata": {},
     "output_type": "display_data"
    }
   ],
   "source": [
    "sns.catplot(data=titanic, y='Age', x='Survived')"
   ]
  },
  {
   "cell_type": "code",
   "execution_count": 13,
   "id": "1d680879-b8c0-4507-a1ef-e3deb047d140",
   "metadata": {},
   "outputs": [
    {
     "data": {
      "text/plain": [
       "Survived\n",
       "0    30.626179\n",
       "1    28.343690\n",
       "Name: Age, dtype: float64"
      ]
     },
     "execution_count": 13,
     "metadata": {},
     "output_type": "execute_result"
    }
   ],
   "source": [
    "titanic.groupby('Survived')['Age'].mean()"
   ]
  },
  {
   "cell_type": "code",
   "execution_count": 14,
   "id": "0cd8aa7e-6ab4-44f1-ae0d-5098190dd6bf",
   "metadata": {},
   "outputs": [
    {
     "data": {
      "text/plain": [
       "PassengerId    0.000000\n",
       "Survived       0.000000\n",
       "Pclass         0.000000\n",
       "Name           0.000000\n",
       "Sex            0.000000\n",
       "Age            0.198653\n",
       "SibSp          0.000000\n",
       "Parch          0.000000\n",
       "Ticket         0.000000\n",
       "Fare           0.000000\n",
       "Cabin          0.771044\n",
       "Embarked       0.002245\n",
       "dtype: float64"
      ]
     },
     "execution_count": 14,
     "metadata": {},
     "output_type": "execute_result"
    }
   ],
   "source": [
    "titanic.isna().mean()"
   ]
  },
  {
   "cell_type": "code",
   "execution_count": 16,
   "id": "d1a3e04a-e807-4430-b2e2-eaea7287da5e",
   "metadata": {},
   "outputs": [
    {
     "data": {
      "text/plain": [
       "Age\n",
       "False    0.406162\n",
       "True     0.293785\n",
       "Name: Survived, dtype: float64"
      ]
     },
     "execution_count": 16,
     "metadata": {},
     "output_type": "execute_result"
    }
   ],
   "source": [
    "titanic.groupby(titanic['Age'].isna())['Survived'].mean()"
   ]
  },
  {
   "cell_type": "code",
   "execution_count": 17,
   "id": "cbac2c04-ed0d-475f-a7df-6a3fa9cfbf07",
   "metadata": {},
   "outputs": [],
   "source": [
    "titanic['AgeMissing'] = titanic['Age'].isna()\n",
    "titanic['AgeRWM'] = titanic['Age'].fillna(titanic['Age'].mean())"
   ]
  },
  {
   "cell_type": "markdown",
   "id": "76e8d77b-86f0-4c5b-88b5-704cdd4e13b7",
   "metadata": {},
   "source": [
    "# Investigate influence of missing age"
   ]
  },
  {
   "cell_type": "code",
   "execution_count": 18,
   "id": "80d1745d-b173-44fd-8ab2-8af78cd2cc10",
   "metadata": {},
   "outputs": [],
   "source": [
    "import statsmodels.formula.api as smf"
   ]
  },
  {
   "cell_type": "code",
   "execution_count": 19,
   "id": "ad23f595-0588-416a-bcca-fa15e54dc25e",
   "metadata": {},
   "outputs": [
    {
     "name": "stdout",
     "output_type": "stream",
     "text": [
      "Optimization terminated successfully.\n",
      "         Current function value: 0.451923\n",
      "         Iterations 6\n"
     ]
    }
   ],
   "source": [
    "model = smf.logit('Survived ~ AgeRWM + Pclass + Sex', data=titanic).fit()"
   ]
  },
  {
   "cell_type": "code",
   "execution_count": 20,
   "id": "043d99d4-02da-4ab3-9c1c-d70e810a1228",
   "metadata": {},
   "outputs": [
    {
     "data": {
      "text/html": [
       "<table class=\"simpletable\">\n",
       "<tr>\n",
       "        <td>Model:</td>              <td>Logit</td>      <td>Pseudo R-squared:</td>    <td>0.321</td>  \n",
       "</tr>\n",
       "<tr>\n",
       "  <td>Dependent Variable:</td>     <td>Survived</td>           <td>AIC:</td>         <td>813.3262</td> \n",
       "</tr>\n",
       "<tr>\n",
       "         <td>Date:</td>        <td>2021-11-14 14:37</td>       <td>BIC:</td>         <td>832.4956</td> \n",
       "</tr>\n",
       "<tr>\n",
       "   <td>No. Observations:</td>         <td>891</td>        <td>Log-Likelihood:</td>    <td>-402.66</td> \n",
       "</tr>\n",
       "<tr>\n",
       "       <td>Df Model:</td>              <td>3</td>            <td>LL-Null:</td>        <td>-593.33</td> \n",
       "</tr>\n",
       "<tr>\n",
       "     <td>Df Residuals:</td>           <td>887</td>         <td>LLR p-value:</td>    <td>2.4502e-82</td>\n",
       "</tr>\n",
       "<tr>\n",
       "      <td>Converged:</td>           <td>1.0000</td>           <td>Scale:</td>         <td>1.0000</td>  \n",
       "</tr>\n",
       "<tr>\n",
       "    <td>No. Iterations:</td>        <td>6.0000</td>              <td></td>               <td></td>     \n",
       "</tr>\n",
       "</table>\n",
       "<table class=\"simpletable\">\n",
       "<tr>\n",
       "       <td></td>        <th>Coef.</th>  <th>Std.Err.</th>     <th>z</th>     <th>P>|z|</th> <th>[0.025</th>  <th>0.975]</th> \n",
       "</tr>\n",
       "<tr>\n",
       "  <th>Intercept</th>   <td>4.7320</td>   <td>0.4498</td>   <td>10.5197</td> <td>0.0000</td> <td>3.8503</td>  <td>5.6136</td> \n",
       "</tr>\n",
       "<tr>\n",
       "  <th>Sex[T.male]</th> <td>-2.6120</td>  <td>0.1866</td>  <td>-13.9970</td> <td>0.0000</td> <td>-2.9777</td> <td>-2.2462</td>\n",
       "</tr>\n",
       "<tr>\n",
       "  <th>AgeRWM</th>      <td>-0.0334</td>  <td>0.0073</td>   <td>-4.5494</td> <td>0.0000</td> <td>-0.0478</td> <td>-0.0190</td>\n",
       "</tr>\n",
       "<tr>\n",
       "  <th>Pclass</th>      <td>-1.1685</td>  <td>0.1189</td>   <td>-9.8239</td> <td>0.0000</td> <td>-1.4016</td> <td>-0.9353</td>\n",
       "</tr>\n",
       "</table>"
      ],
      "text/plain": [
       "<class 'statsmodels.iolib.summary2.Summary'>\n",
       "\"\"\"\n",
       "                         Results: Logit\n",
       "=================================================================\n",
       "Model:              Logit            Pseudo R-squared: 0.321     \n",
       "Dependent Variable: Survived         AIC:              813.3262  \n",
       "Date:               2021-11-14 14:37 BIC:              832.4956  \n",
       "No. Observations:   891              Log-Likelihood:   -402.66   \n",
       "Df Model:           3                LL-Null:          -593.33   \n",
       "Df Residuals:       887              LLR p-value:      2.4502e-82\n",
       "Converged:          1.0000           Scale:            1.0000    \n",
       "No. Iterations:     6.0000                                       \n",
       "------------------------------------------------------------------\n",
       "              Coef.   Std.Err.     z      P>|z|    [0.025   0.975]\n",
       "------------------------------------------------------------------\n",
       "Intercept     4.7320    0.4498   10.5197  0.0000   3.8503   5.6136\n",
       "Sex[T.male]  -2.6120    0.1866  -13.9970  0.0000  -2.9777  -2.2462\n",
       "AgeRWM       -0.0334    0.0073   -4.5494  0.0000  -0.0478  -0.0190\n",
       "Pclass       -1.1685    0.1189   -9.8239  0.0000  -1.4016  -0.9353\n",
       "=================================================================\n",
       "\n",
       "\"\"\""
      ]
     },
     "execution_count": 20,
     "metadata": {},
     "output_type": "execute_result"
    }
   ],
   "source": [
    "model.summary2()"
   ]
  },
  {
   "cell_type": "code",
   "execution_count": 23,
   "id": "856c4ea8-24e9-4ba4-860f-cce3516fe439",
   "metadata": {},
   "outputs": [
    {
     "name": "stdout",
     "output_type": "stream",
     "text": [
      "Optimization terminated successfully.\n",
      "         Current function value: 0.451837\n",
      "         Iterations 6\n"
     ]
    },
    {
     "data": {
      "text/html": [
       "<table class=\"simpletable\">\n",
       "<tr>\n",
       "        <td>Model:</td>              <td>Logit</td>      <td>Pseudo R-squared:</td>    <td>0.321</td>  \n",
       "</tr>\n",
       "<tr>\n",
       "  <td>Dependent Variable:</td>     <td>Survived</td>           <td>AIC:</td>         <td>815.1737</td> \n",
       "</tr>\n",
       "<tr>\n",
       "         <td>Date:</td>        <td>2021-11-14 14:42</td>       <td>BIC:</td>         <td>839.1354</td> \n",
       "</tr>\n",
       "<tr>\n",
       "   <td>No. Observations:</td>         <td>891</td>        <td>Log-Likelihood:</td>    <td>-402.59</td> \n",
       "</tr>\n",
       "<tr>\n",
       "       <td>Df Model:</td>              <td>4</td>            <td>LL-Null:</td>        <td>-593.33</td> \n",
       "</tr>\n",
       "<tr>\n",
       "     <td>Df Residuals:</td>           <td>886</td>         <td>LLR p-value:</td>    <td>2.7866e-81</td>\n",
       "</tr>\n",
       "<tr>\n",
       "      <td>Converged:</td>           <td>1.0000</td>           <td>Scale:</td>         <td>1.0000</td>  \n",
       "</tr>\n",
       "<tr>\n",
       "    <td>No. Iterations:</td>        <td>6.0000</td>              <td></td>               <td></td>     \n",
       "</tr>\n",
       "</table>\n",
       "<table class=\"simpletable\">\n",
       "<tr>\n",
       "           <td></td>           <th>Coef.</th>  <th>Std.Err.</th>     <th>z</th>     <th>P>|z|</th> <th>[0.025</th>  <th>0.975]</th> \n",
       "</tr>\n",
       "<tr>\n",
       "  <th>Intercept</th>          <td>4.7261</td>   <td>0.4501</td>   <td>10.5000</td> <td>0.0000</td> <td>3.8439</td>  <td>5.6083</td> \n",
       "</tr>\n",
       "<tr>\n",
       "  <th>AgeMissing[T.True]</th> <td>-0.0879</td>  <td>0.2254</td>   <td>-0.3899</td> <td>0.6966</td> <td>-0.5297</td> <td>0.3539</td> \n",
       "</tr>\n",
       "<tr>\n",
       "  <th>Sex[T.male]</th>        <td>-2.6117</td>  <td>0.1867</td>  <td>-13.9862</td> <td>0.0000</td> <td>-2.9777</td> <td>-2.2457</td>\n",
       "</tr>\n",
       "<tr>\n",
       "  <th>AgeRWM</th>             <td>-0.0332</td>  <td>0.0074</td>   <td>-4.5131</td> <td>0.0000</td> <td>-0.0476</td> <td>-0.0188</td>\n",
       "</tr>\n",
       "<tr>\n",
       "  <th>Pclass</th>             <td>-1.1610</td>  <td>0.1204</td>   <td>-9.6443</td> <td>0.0000</td> <td>-1.3970</td> <td>-0.9251</td>\n",
       "</tr>\n",
       "</table>"
      ],
      "text/plain": [
       "<class 'statsmodels.iolib.summary2.Summary'>\n",
       "\"\"\"\n",
       "                          Results: Logit\n",
       "===================================================================\n",
       "Model:                Logit            Pseudo R-squared: 0.321     \n",
       "Dependent Variable:   Survived         AIC:              815.1737  \n",
       "Date:                 2021-11-14 14:42 BIC:              839.1354  \n",
       "No. Observations:     891              Log-Likelihood:   -402.59   \n",
       "Df Model:             4                LL-Null:          -593.33   \n",
       "Df Residuals:         886              LLR p-value:      2.7866e-81\n",
       "Converged:            1.0000           Scale:            1.0000    \n",
       "No. Iterations:       6.0000                                       \n",
       "-------------------------------------------------------------------\n",
       "                    Coef.  Std.Err.    z     P>|z|   [0.025  0.975]\n",
       "-------------------------------------------------------------------\n",
       "Intercept           4.7261   0.4501  10.5000 0.0000  3.8439  5.6083\n",
       "AgeMissing[T.True] -0.0879   0.2254  -0.3899 0.6966 -0.5297  0.3539\n",
       "Sex[T.male]        -2.6117   0.1867 -13.9862 0.0000 -2.9777 -2.2457\n",
       "AgeRWM             -0.0332   0.0074  -4.5131 0.0000 -0.0476 -0.0188\n",
       "Pclass             -1.1610   0.1204  -9.6443 0.0000 -1.3970 -0.9251\n",
       "===================================================================\n",
       "\n",
       "\"\"\""
      ]
     },
     "execution_count": 23,
     "metadata": {},
     "output_type": "execute_result"
    }
   ],
   "source": [
    "smf.logit('Survived ~ AgeMissing + AgeRWM + Pclass + Sex', data=titanic).fit().summary2()"
   ]
  },
  {
   "cell_type": "markdown",
   "id": "dcfbee16-d151-4b07-8c2f-10c46d639be0",
   "metadata": {},
   "source": [
    "## \"Outliers\""
   ]
  },
  {
   "cell_type": "code",
   "execution_count": 25,
   "id": "32bbb56c-c71b-4c7a-a590-c1ab7a419fd6",
   "metadata": {},
   "outputs": [
    {
     "data": {
      "text/plain": [
       "<seaborn.axisgrid.FacetGrid at 0x16d20a730>"
      ]
     },
     "execution_count": 25,
     "metadata": {},
     "output_type": "execute_result"
    },
    {
     "data": {
      "image/png": "[encoded data removed]",
      "text/plain": [
       "<Figure size 360x360 with 1 Axes>"
      ]
     },
     "metadata": {},
     "output_type": "display_data"
    }
   ],
   "source": [
    "sns.displot((titanic['Age'] - titanic['Age'].mean()) / titanic['Age'].std())\n",
    "# z-score\n",
    "# outlier: |z| > 3"
   ]
  },
  {
   "cell_type": "code",
   "execution_count": 26,
   "id": "6b13eb67-fefe-4679-92d5-83f077bfc552",
   "metadata": {},
   "outputs": [
    {
     "data": {
      "text/plain": [
       "Age\n",
       "False    0.367594\n",
       "True     0.593750\n",
       "Name: Survived, dtype: float64"
      ]
     },
     "execution_count": 26,
     "metadata": {},
     "output_type": "execute_result"
    }
   ],
   "source": [
    "titanic.groupby(titanic['Age'] <= 10)['Survived'].mean()"
   ]
  },
  {
   "cell_type": "code",
   "execution_count": 28,
   "id": "5d4c0bb6-80ea-4d6c-9be3-486d5042ac44",
   "metadata": {},
   "outputs": [
    {
     "data": {
      "text/plain": [
       "<seaborn.axisgrid.FacetGrid at 0x16fc4fb80>"
      ]
     },
     "execution_count": 28,
     "metadata": {},
     "output_type": "execute_result"
    },
    {
     "data": {
      "image/png": "[encoded data removed]",
      "text/plain": [
       "<Figure size 415.55x360 with 1 Axes>"
      ]
     },
     "metadata": {},
     "output_type": "display_data"
    }
   ],
   "source": [
    "sns.displot(data=titanic, x='Age', hue='Survived')"
   ]
  },
  {
   "cell_type": "code",
   "execution_count": 33,
   "id": "a534534c-09e8-43f7-8239-44daef389f09",
   "metadata": {},
   "outputs": [
    {
     "name": "stdout",
     "output_type": "stream",
     "text": [
      "Optimization terminated successfully.\n",
      "         Current function value: 0.424638\n",
      "         Iterations 6\n"
     ]
    },
    {
     "data": {
      "text/html": [
       "<table class=\"simpletable\">\n",
       "<tr>\n",
       "        <td>Model:</td>              <td>Logit</td>      <td>Pseudo R-squared:</td>    <td>0.364</td>  \n",
       "</tr>\n",
       "<tr>\n",
       "  <td>Dependent Variable:</td>     <td>Survived</td>           <td>AIC:</td>         <td>560.0293</td> \n",
       "</tr>\n",
       "<tr>\n",
       "         <td>Date:</td>        <td>2021-11-14 14:52</td>       <td>BIC:</td>         <td>577.9372</td> \n",
       "</tr>\n",
       "<tr>\n",
       "   <td>No. Observations:</td>         <td>650</td>        <td>Log-Likelihood:</td>    <td>-276.01</td> \n",
       "</tr>\n",
       "<tr>\n",
       "       <td>Df Model:</td>              <td>3</td>            <td>LL-Null:</td>        <td>-434.01</td> \n",
       "</tr>\n",
       "<tr>\n",
       "     <td>Df Residuals:</td>           <td>646</td>         <td>LLR p-value:</td>    <td>3.4474e-68</td>\n",
       "</tr>\n",
       "<tr>\n",
       "      <td>Converged:</td>           <td>1.0000</td>           <td>Scale:</td>         <td>1.0000</td>  \n",
       "</tr>\n",
       "<tr>\n",
       "    <td>No. Iterations:</td>        <td>6.0000</td>              <td></td>               <td></td>     \n",
       "</tr>\n",
       "</table>\n",
       "<table class=\"simpletable\">\n",
       "<tr>\n",
       "       <td></td>        <th>Coef.</th>  <th>Std.Err.</th>     <th>z</th>     <th>P>|z|</th> <th>[0.025</th>  <th>0.975]</th> \n",
       "</tr>\n",
       "<tr>\n",
       "  <th>Intercept</th>   <td>4.7249</td>   <td>0.5687</td>   <td>8.3087</td>  <td>0.0000</td> <td>3.6103</td>  <td>5.8395</td> \n",
       "</tr>\n",
       "<tr>\n",
       "  <th>Sex[T.male]</th> <td>-2.8547</td>  <td>0.2296</td>  <td>-12.4339</td> <td>0.0000</td> <td>-3.3047</td> <td>-2.4047</td>\n",
       "</tr>\n",
       "<tr>\n",
       "  <th>Pclass</th>      <td>-1.2415</td>  <td>0.1476</td>   <td>-8.4135</td> <td>0.0000</td> <td>-1.5307</td> <td>-0.9523</td>\n",
       "</tr>\n",
       "<tr>\n",
       "  <th>AgeRWM</th>      <td>-0.0249</td>  <td>0.0093</td>   <td>-2.6627</td> <td>0.0078</td> <td>-0.0432</td> <td>-0.0066</td>\n",
       "</tr>\n",
       "</table>"
      ],
      "text/plain": [
       "<class 'statsmodels.iolib.summary2.Summary'>\n",
       "\"\"\"\n",
       "                         Results: Logit\n",
       "=================================================================\n",
       "Model:              Logit            Pseudo R-squared: 0.364     \n",
       "Dependent Variable: Survived         AIC:              560.0293  \n",
       "Date:               2021-11-14 14:52 BIC:              577.9372  \n",
       "No. Observations:   650              Log-Likelihood:   -276.01   \n",
       "Df Model:           3                LL-Null:          -434.01   \n",
       "Df Residuals:       646              LLR p-value:      3.4474e-68\n",
       "Converged:          1.0000           Scale:            1.0000    \n",
       "No. Iterations:     6.0000                                       \n",
       "------------------------------------------------------------------\n",
       "              Coef.   Std.Err.     z      P>|z|    [0.025   0.975]\n",
       "------------------------------------------------------------------\n",
       "Intercept     4.7249    0.5687    8.3087  0.0000   3.6103   5.8395\n",
       "Sex[T.male]  -2.8547    0.2296  -12.4339  0.0000  -3.3047  -2.4047\n",
       "Pclass       -1.2415    0.1476   -8.4135  0.0000  -1.5307  -0.9523\n",
       "AgeRWM       -0.0249    0.0093   -2.6627  0.0078  -0.0432  -0.0066\n",
       "=================================================================\n",
       "\n",
       "\"\"\""
      ]
     },
     "execution_count": 33,
     "metadata": {},
     "output_type": "execute_result"
    }
   ],
   "source": [
    "smf.logit('Survived ~ Pclass + Sex + AgeRWM', data=titanic[titanic['Age'] > 10]).fit().summary2()"
   ]
  },
  {
   "cell_type": "code",
   "execution_count": 34,
   "id": "17d2baba-bad9-45b9-89aa-610290e4e50e",
   "metadata": {},
   "outputs": [
    {
     "name": "stdout",
     "output_type": "stream",
     "text": [
      "Optimization terminated successfully.\n",
      "         Current function value: 0.536465\n",
      "         Iterations 7\n"
     ]
    },
    {
     "data": {
      "text/html": [
       "<table class=\"simpletable\">\n",
       "<tr>\n",
       "        <td>Model:</td>              <td>Logit</td>      <td>Pseudo R-squared:</td>    <td>0.206</td>  \n",
       "</tr>\n",
       "<tr>\n",
       "  <td>Dependent Variable:</td>     <td>Survived</td>           <td>AIC:</td>          <td>76.6676</td> \n",
       "</tr>\n",
       "<tr>\n",
       "         <td>Date:</td>        <td>2021-11-14 14:53</td>       <td>BIC:</td>          <td>85.3031</td> \n",
       "</tr>\n",
       "<tr>\n",
       "   <td>No. Observations:</td>         <td>64</td>         <td>Log-Likelihood:</td>    <td>-34.334</td> \n",
       "</tr>\n",
       "<tr>\n",
       "       <td>Df Model:</td>              <td>3</td>            <td>LL-Null:</td>        <td>-43.230</td> \n",
       "</tr>\n",
       "<tr>\n",
       "     <td>Df Residuals:</td>           <td>60</td>          <td>LLR p-value:</td>    <td>0.00048553</td>\n",
       "</tr>\n",
       "<tr>\n",
       "      <td>Converged:</td>           <td>1.0000</td>           <td>Scale:</td>         <td>1.0000</td>  \n",
       "</tr>\n",
       "<tr>\n",
       "    <td>No. Iterations:</td>        <td>7.0000</td>              <td></td>               <td></td>     \n",
       "</tr>\n",
       "</table>\n",
       "<table class=\"simpletable\">\n",
       "<tr>\n",
       "       <td></td>        <th>Coef.</th>  <th>Std.Err.</th>    <th>z</th>     <th>P>|z|</th> <th>[0.025</th>  <th>0.975]</th> \n",
       "</tr>\n",
       "<tr>\n",
       "  <th>Intercept</th>   <td>7.2236</td>   <td>2.3608</td>  <td>3.0598</td>  <td>0.0022</td> <td>2.5965</td>  <td>11.8507</td>\n",
       "</tr>\n",
       "<tr>\n",
       "  <th>Sex[T.male]</th> <td>-0.3587</td>  <td>0.5877</td>  <td>-0.6104</td> <td>0.5416</td> <td>-1.5107</td> <td>0.7932</td> \n",
       "</tr>\n",
       "<tr>\n",
       "  <th>Pclass</th>      <td>-2.1105</td>  <td>0.8023</td>  <td>-2.6305</td> <td>0.0085</td> <td>-3.6831</td> <td>-0.5380</td>\n",
       "</tr>\n",
       "<tr>\n",
       "  <th>AgeRWM</th>      <td>-0.1962</td>  <td>0.1006</td>  <td>-1.9496</td> <td>0.0512</td> <td>-0.3935</td> <td>0.0010</td> \n",
       "</tr>\n",
       "</table>"
      ],
      "text/plain": [
       "<class 'statsmodels.iolib.summary2.Summary'>\n",
       "\"\"\"\n",
       "                         Results: Logit\n",
       "=================================================================\n",
       "Model:              Logit            Pseudo R-squared: 0.206     \n",
       "Dependent Variable: Survived         AIC:              76.6676   \n",
       "Date:               2021-11-14 14:53 BIC:              85.3031   \n",
       "No. Observations:   64               Log-Likelihood:   -34.334   \n",
       "Df Model:           3                LL-Null:          -43.230   \n",
       "Df Residuals:       60               LLR p-value:      0.00048553\n",
       "Converged:          1.0000           Scale:            1.0000    \n",
       "No. Iterations:     7.0000                                       \n",
       "------------------------------------------------------------------\n",
       "               Coef.   Std.Err.     z     P>|z|    [0.025   0.975]\n",
       "------------------------------------------------------------------\n",
       "Intercept      7.2236    2.3608   3.0598  0.0022   2.5965  11.8507\n",
       "Sex[T.male]   -0.3587    0.5877  -0.6104  0.5416  -1.5107   0.7932\n",
       "Pclass        -2.1105    0.8023  -2.6305  0.0085  -3.6831  -0.5380\n",
       "AgeRWM        -0.1962    0.1006  -1.9496  0.0512  -0.3935   0.0010\n",
       "=================================================================\n",
       "\n",
       "\"\"\""
      ]
     },
     "execution_count": 34,
     "metadata": {},
     "output_type": "execute_result"
    }
   ],
   "source": [
    "smf.logit('Survived ~ Pclass + Sex + AgeRWM', data=titanic[titanic['Age'] <= 10]).fit().summary2()"
   ]
  },
  {
   "cell_type": "code",
   "execution_count": null,
   "id": "66015833-5817-4f58-b2d2-12cbe6428ac0",
   "metadata": {},
   "outputs": [],
   "source": []
  }
 ],
 "metadata": {
  "kernelspec": {
   "display_name": "Python 3 (ipykernel)",
   "language": "python",
   "name": "python3"
  },
  "language_info": {
   "codemirror_mode": {
    "name": "ipython",
    "version": 3
   },
   "file_extension": ".py",
   "mimetype": "text/x-python",
   "name": "python",
   "nbconvert_exporter": "python",
   "pygments_lexer": "ipython3",
   "version": "3.9.6"
  }
 },
 "nbformat": 4,
 "nbformat_minor": 5
}
