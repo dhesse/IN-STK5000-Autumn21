{
 "cells": [
  {
   "cell_type": "code",
   "execution_count": 1,
   "id": "3c9758bf-5dcf-4bf1-8bec-b5982bc5833c",
   "metadata": {},
   "outputs": [],
   "source": [
    "import numpy\n",
    "import matplotlib.pyplot as plt"
   ]
  },
  {
   "cell_type": "markdown",
   "id": "fe9f261e-c442-4d8e-89dd-27d5917977e8",
   "metadata": {},
   "source": [
    "# Randomization"
   ]
  },
  {
   "cell_type": "code",
   "execution_count": 2,
   "id": "79fe7198-4fe9-42fd-bf3c-207fbea898c0",
   "metadata": {},
   "outputs": [],
   "source": [
    "values = numpy.random.choice([0, 1], 10000) # p = 0.5"
   ]
  },
  {
   "cell_type": "code",
   "execution_count": 3,
   "id": "936ecec3-b238-4764-9537-b15bd51e9412",
   "metadata": {},
   "outputs": [
    {
     "data": {
      "text/plain": [
       "array([1, 1, 0, 0, 0, 0, 1, 0, 1, 1])"
      ]
     },
     "execution_count": 3,
     "metadata": {},
     "output_type": "execute_result"
    }
   ],
   "source": [
    "values[:10]"
   ]
  },
  {
   "cell_type": "code",
   "execution_count": 4,
   "id": "e11e727a-203c-4b32-8e62-96bbc943ce5d",
   "metadata": {},
   "outputs": [
    {
     "data": {
      "text/plain": [
       "0.5005"
      ]
     },
     "execution_count": 4,
     "metadata": {},
     "output_type": "execute_result"
    }
   ],
   "source": [
    "values.mean() # estimate for p"
   ]
  },
  {
   "cell_type": "code",
   "execution_count": 6,
   "id": "74083beb-b0e2-4569-8514-282957c2f708",
   "metadata": {},
   "outputs": [
    {
     "data": {
      "text/plain": [
       "(10000,)"
      ]
     },
     "execution_count": 6,
     "metadata": {},
     "output_type": "execute_result"
    }
   ],
   "source": [
    "values.shape"
   ]
  },
  {
   "cell_type": "code",
   "execution_count": 9,
   "id": "d407ee62-2865-4119-a511-90d895211a49",
   "metadata": {},
   "outputs": [],
   "source": [
    "def randomize(a, theta):\n",
    "    coins = numpy.random.choice([True, False], p=(theta, (1-theta)), size=a.shape)\n",
    "    noise = numpy.random.choice([0, 1], size=a.shape)\n",
    "    response = numpy.array(a)\n",
    "    response[~coins] = noise[~coins]\n",
    "    return response"
   ]
  },
  {
   "cell_type": "code",
   "execution_count": 13,
   "id": "3d559078-7ecf-416e-889f-7237438cfca4",
   "metadata": {},
   "outputs": [
    {
     "data": {
      "text/plain": [
       "array([0, 1, 0, 1, 0, 1, 0, 0, 1, 1])"
      ]
     },
     "execution_count": 13,
     "metadata": {},
     "output_type": "execute_result"
    }
   ],
   "source": [
    "randomize(values, 0.8)[:10]"
   ]
  },
  {
   "cell_type": "code",
   "execution_count": 14,
   "id": "b782444b-7a65-4fa1-b8ff-a6676beb459f",
   "metadata": {},
   "outputs": [
    {
     "data": {
      "text/plain": [
       "0.5017"
      ]
     },
     "execution_count": 14,
     "metadata": {},
     "output_type": "execute_result"
    }
   ],
   "source": [
    "randomize(values, 0.8).mean()"
   ]
  },
  {
   "cell_type": "code",
   "execution_count": 15,
   "id": "6309a031-a592-45eb-a4cb-72ad83a83105",
   "metadata": {},
   "outputs": [],
   "source": [
    "values = numpy.random.choice([0, 1], p=[0.8, 0.2], size=10000) # p = 0.5"
   ]
  },
  {
   "cell_type": "code",
   "execution_count": 16,
   "id": "0293574e-9358-4524-baee-4d986e15b969",
   "metadata": {},
   "outputs": [
    {
     "data": {
      "text/plain": [
       "0.2005"
      ]
     },
     "execution_count": 16,
     "metadata": {},
     "output_type": "execute_result"
    }
   ],
   "source": [
    "values.mean()"
   ]
  },
  {
   "cell_type": "code",
   "execution_count": 17,
   "id": "d48e3d23-b84a-4b10-b0f7-a92d8f3d59dc",
   "metadata": {},
   "outputs": [
    {
     "data": {
      "text/plain": [
       "0.263"
      ]
     },
     "execution_count": 17,
     "metadata": {},
     "output_type": "execute_result"
    }
   ],
   "source": [
    "randomize(values, 0.8).mean()"
   ]
  },
  {
   "cell_type": "code",
   "execution_count": 18,
   "id": "8ad886b7-6028-4b93-95f0-9b760e080aa5",
   "metadata": {},
   "outputs": [
    {
     "data": {
      "text/plain": [
       "0.26"
      ]
     },
     "execution_count": 18,
     "metadata": {},
     "output_type": "execute_result"
    }
   ],
   "source": [
    "# theta * p + (1-theta) * 1/2\n",
    "0.8 * 0.2 + (1 - 0.8)*1/2"
   ]
  },
  {
   "cell_type": "code",
   "execution_count": 29,
   "id": "f67f988a-90ad-400f-9a30-39de3fd85a57",
   "metadata": {},
   "outputs": [],
   "source": [
    "# approx. original p\n",
    "def approx_p(sample, theta):\n",
    "    return randomize(sample, theta).mean() / theta - (1 - theta) / 2 / theta"
   ]
  },
  {
   "cell_type": "code",
   "execution_count": 30,
   "id": "b980b7af-9030-4416-b1af-5be2b601c214",
   "metadata": {},
   "outputs": [
    {
     "data": {
      "text/plain": [
       "0.2065"
      ]
     },
     "execution_count": 30,
     "metadata": {},
     "output_type": "execute_result"
    }
   ],
   "source": [
    "approx_p(values, 0.8)"
   ]
  },
  {
   "cell_type": "code",
   "execution_count": 32,
   "id": "0004315b-5d15-42ee-a970-7398efe3296f",
   "metadata": {},
   "outputs": [],
   "source": [
    "def gen_sample(p):\n",
    "    return numpy.random.choice([0, 1], 10000, p=(1-p, p))"
   ]
  },
  {
   "cell_type": "code",
   "execution_count": 37,
   "id": "330a4d53-8d0d-4ddc-ae92-bd2c12a309b9",
   "metadata": {},
   "outputs": [],
   "source": [
    "def show_hists(p, theta):\n",
    "    approx = [approx_p(gen_sample(p), theta) for _ in range(1000)]\n",
    "    true_v = [gen_sample(p).mean() for _ in range(1000)]\n",
    "    plt.hist(approx, bins=15, alpha=0.5, label='noisy')\n",
    "    plt.hist(true_v, bins=15, alpha=0.5, label='true')\n",
    "    plt.legend()"
   ]
  },
  {
   "cell_type": "code",
   "execution_count": 38,
   "id": "cdf1a690-7ff7-4126-a261-5bc87b17e602",
   "metadata": {},
   "outputs": [
    {
     "data": {
      "image/png": "[encoded data removed]",
      "text/plain": [
       "<Figure size 432x288 with 1 Axes>"
      ]
     },
     "metadata": {
      "needs_background": "light"
     },
     "output_type": "display_data"
    }
   ],
   "source": [
    "show_hists(0.8, 0.8)"
   ]
  },
  {
   "cell_type": "code",
   "execution_count": 39,
   "id": "0e913336-52b6-4724-b02f-b0a2425bc0c2",
   "metadata": {},
   "outputs": [
    {
     "data": {
      "image/png": "[encoded data removed]",
      "text/plain": [
       "<Figure size 432x288 with 1 Axes>"
      ]
     },
     "metadata": {
      "needs_background": "light"
     },
     "output_type": "display_data"
    }
   ],
   "source": [
    "show_hists(0.8, 0.999)"
   ]
  },
  {
   "cell_type": "code",
   "execution_count": 41,
   "id": "785503ee-9d01-4cd0-b460-cd6bfa008631",
   "metadata": {},
   "outputs": [
    {
     "data": {
      "image/png": "[encoded data removed]",
      "text/plain": [
       "<Figure size 432x288 with 1 Axes>"
      ]
     },
     "metadata": {
      "needs_background": "light"
     },
     "output_type": "display_data"
    }
   ],
   "source": [
    "show_hists(0.8, 0.5)"
   ]
  },
  {
   "cell_type": "code",
   "execution_count": 42,
   "id": "71a4f50d-72b3-4503-ba85-bfdddc61497d",
   "metadata": {},
   "outputs": [
    {
     "data": {
      "image/png": "[encoded data removed]",
      "text/plain": [
       "<Figure size 432x288 with 1 Axes>"
      ]
     },
     "metadata": {
      "needs_background": "light"
     },
     "output_type": "display_data"
    }
   ],
   "source": [
    "show_hists(0.8, 0.2)"
   ]
  },
  {
   "cell_type": "code",
   "execution_count": 48,
   "id": "4ed40afb-7cee-47b5-910e-539ca56ea7aa",
   "metadata": {},
   "outputs": [],
   "source": [
    "import pandas\n",
    "from sklearn.pipeline import Pipeline\n",
    "from sklearn.compose import ColumnTransformer\n",
    "from sklearn.preprocessing import FunctionTransformer\n",
    "from sklearn.tree import DecisionTreeClassifier\n",
    "from sklearn.model_selection import cross_val_score"
   ]
  },
  {
   "cell_type": "code",
   "execution_count": 44,
   "id": "1130a97c-1d49-4375-8c1a-64d9d01c37a5",
   "metadata": {},
   "outputs": [],
   "source": [
    "df = pandas.read_csv('income_data.csv', skipinitialspace=True)"
   ]
  },
  {
   "cell_type": "code",
   "execution_count": 45,
   "id": "3d9b6a9f-fc7d-4081-997d-2bf80d9eecff",
   "metadata": {},
   "outputs": [
    {
     "data": {
      "text/html": [
       "<div>\n",
       "<style scoped>\n",
       "    .dataframe tbody tr th:only-of-type {\n",
       "        vertical-align: middle;\n",
       "    }\n",
       "\n",
       "    .dataframe tbody tr th {\n",
       "        vertical-align: top;\n",
       "    }\n",
       "\n",
       "    .dataframe thead th {\n",
       "        text-align: right;\n",
       "    }\n",
       "</style>\n",
       "<table border=\"1\" class=\"dataframe\">\n",
       "  <thead>\n",
       "    <tr style=\"text-align: right;\">\n",
       "      <th></th>\n",
       "      <th>age</th>\n",
       "      <th>workclass</th>\n",
       "      <th>fnlwgt</th>\n",
       "      <th>education</th>\n",
       "      <th>education-num</th>\n",
       "      <th>marital-status</th>\n",
       "      <th>occupation</th>\n",
       "      <th>relationship</th>\n",
       "      <th>race</th>\n",
       "      <th>sex</th>\n",
       "      <th>capital-gain</th>\n",
       "      <th>capital-loss</th>\n",
       "      <th>hours-per-week</th>\n",
       "      <th>native-country</th>\n",
       "      <th>income</th>\n",
       "      <th>target</th>\n",
       "    </tr>\n",
       "  </thead>\n",
       "  <tbody>\n",
       "    <tr>\n",
       "      <th>0</th>\n",
       "      <td>39</td>\n",
       "      <td>State-gov</td>\n",
       "      <td>77516</td>\n",
       "      <td>Bachelors</td>\n",
       "      <td>13</td>\n",
       "      <td>Never-married</td>\n",
       "      <td>Adm-clerical</td>\n",
       "      <td>Not-in-family</td>\n",
       "      <td>White</td>\n",
       "      <td>Male</td>\n",
       "      <td>2174</td>\n",
       "      <td>0</td>\n",
       "      <td>40</td>\n",
       "      <td>United-States</td>\n",
       "      <td>&lt;=50K</td>\n",
       "      <td>0</td>\n",
       "    </tr>\n",
       "    <tr>\n",
       "      <th>1</th>\n",
       "      <td>50</td>\n",
       "      <td>Self-emp-not-inc</td>\n",
       "      <td>83311</td>\n",
       "      <td>Bachelors</td>\n",
       "      <td>13</td>\n",
       "      <td>Married-civ-spouse</td>\n",
       "      <td>Exec-managerial</td>\n",
       "      <td>Husband</td>\n",
       "      <td>White</td>\n",
       "      <td>Male</td>\n",
       "      <td>0</td>\n",
       "      <td>0</td>\n",
       "      <td>13</td>\n",
       "      <td>United-States</td>\n",
       "      <td>&lt;=50K</td>\n",
       "      <td>0</td>\n",
       "    </tr>\n",
       "    <tr>\n",
       "      <th>2</th>\n",
       "      <td>38</td>\n",
       "      <td>Private</td>\n",
       "      <td>215646</td>\n",
       "      <td>HS-grad</td>\n",
       "      <td>9</td>\n",
       "      <td>Divorced</td>\n",
       "      <td>Handlers-cleaners</td>\n",
       "      <td>Not-in-family</td>\n",
       "      <td>White</td>\n",
       "      <td>Male</td>\n",
       "      <td>0</td>\n",
       "      <td>0</td>\n",
       "      <td>40</td>\n",
       "      <td>United-States</td>\n",
       "      <td>&lt;=50K</td>\n",
       "      <td>0</td>\n",
       "    </tr>\n",
       "    <tr>\n",
       "      <th>3</th>\n",
       "      <td>53</td>\n",
       "      <td>Private</td>\n",
       "      <td>234721</td>\n",
       "      <td>11th</td>\n",
       "      <td>7</td>\n",
       "      <td>Married-civ-spouse</td>\n",
       "      <td>Handlers-cleaners</td>\n",
       "      <td>Husband</td>\n",
       "      <td>Black</td>\n",
       "      <td>Male</td>\n",
       "      <td>0</td>\n",
       "      <td>0</td>\n",
       "      <td>40</td>\n",
       "      <td>United-States</td>\n",
       "      <td>&lt;=50K</td>\n",
       "      <td>0</td>\n",
       "    </tr>\n",
       "    <tr>\n",
       "      <th>4</th>\n",
       "      <td>28</td>\n",
       "      <td>Private</td>\n",
       "      <td>338409</td>\n",
       "      <td>Bachelors</td>\n",
       "      <td>13</td>\n",
       "      <td>Married-civ-spouse</td>\n",
       "      <td>Prof-specialty</td>\n",
       "      <td>Wife</td>\n",
       "      <td>Black</td>\n",
       "      <td>Female</td>\n",
       "      <td>0</td>\n",
       "      <td>0</td>\n",
       "      <td>40</td>\n",
       "      <td>Cuba</td>\n",
       "      <td>&lt;=50K</td>\n",
       "      <td>0</td>\n",
       "    </tr>\n",
       "    <tr>\n",
       "      <th>...</th>\n",
       "      <td>...</td>\n",
       "      <td>...</td>\n",
       "      <td>...</td>\n",
       "      <td>...</td>\n",
       "      <td>...</td>\n",
       "      <td>...</td>\n",
       "      <td>...</td>\n",
       "      <td>...</td>\n",
       "      <td>...</td>\n",
       "      <td>...</td>\n",
       "      <td>...</td>\n",
       "      <td>...</td>\n",
       "      <td>...</td>\n",
       "      <td>...</td>\n",
       "      <td>...</td>\n",
       "      <td>...</td>\n",
       "    </tr>\n",
       "    <tr>\n",
       "      <th>32556</th>\n",
       "      <td>27</td>\n",
       "      <td>Private</td>\n",
       "      <td>257302</td>\n",
       "      <td>Assoc-acdm</td>\n",
       "      <td>12</td>\n",
       "      <td>Married-civ-spouse</td>\n",
       "      <td>Tech-support</td>\n",
       "      <td>Wife</td>\n",
       "      <td>White</td>\n",
       "      <td>Female</td>\n",
       "      <td>0</td>\n",
       "      <td>0</td>\n",
       "      <td>38</td>\n",
       "      <td>United-States</td>\n",
       "      <td>&lt;=50K</td>\n",
       "      <td>0</td>\n",
       "    </tr>\n",
       "    <tr>\n",
       "      <th>32557</th>\n",
       "      <td>40</td>\n",
       "      <td>Private</td>\n",
       "      <td>154374</td>\n",
       "      <td>HS-grad</td>\n",
       "      <td>9</td>\n",
       "      <td>Married-civ-spouse</td>\n",
       "      <td>Machine-op-inspct</td>\n",
       "      <td>Husband</td>\n",
       "      <td>White</td>\n",
       "      <td>Male</td>\n",
       "      <td>0</td>\n",
       "      <td>0</td>\n",
       "      <td>40</td>\n",
       "      <td>United-States</td>\n",
       "      <td>&gt;50K</td>\n",
       "      <td>1</td>\n",
       "    </tr>\n",
       "    <tr>\n",
       "      <th>32558</th>\n",
       "      <td>58</td>\n",
       "      <td>Private</td>\n",
       "      <td>151910</td>\n",
       "      <td>HS-grad</td>\n",
       "      <td>9</td>\n",
       "      <td>Widowed</td>\n",
       "      <td>Adm-clerical</td>\n",
       "      <td>Unmarried</td>\n",
       "      <td>White</td>\n",
       "      <td>Female</td>\n",
       "      <td>0</td>\n",
       "      <td>0</td>\n",
       "      <td>40</td>\n",
       "      <td>United-States</td>\n",
       "      <td>&lt;=50K</td>\n",
       "      <td>0</td>\n",
       "    </tr>\n",
       "    <tr>\n",
       "      <th>32559</th>\n",
       "      <td>22</td>\n",
       "      <td>Private</td>\n",
       "      <td>201490</td>\n",
       "      <td>HS-grad</td>\n",
       "      <td>9</td>\n",
       "      <td>Never-married</td>\n",
       "      <td>Adm-clerical</td>\n",
       "      <td>Own-child</td>\n",
       "      <td>White</td>\n",
       "      <td>Male</td>\n",
       "      <td>0</td>\n",
       "      <td>0</td>\n",
       "      <td>20</td>\n",
       "      <td>United-States</td>\n",
       "      <td>&lt;=50K</td>\n",
       "      <td>0</td>\n",
       "    </tr>\n",
       "    <tr>\n",
       "      <th>32560</th>\n",
       "      <td>52</td>\n",
       "      <td>Self-emp-inc</td>\n",
       "      <td>287927</td>\n",
       "      <td>HS-grad</td>\n",
       "      <td>9</td>\n",
       "      <td>Married-civ-spouse</td>\n",
       "      <td>Exec-managerial</td>\n",
       "      <td>Wife</td>\n",
       "      <td>White</td>\n",
       "      <td>Female</td>\n",
       "      <td>15024</td>\n",
       "      <td>0</td>\n",
       "      <td>40</td>\n",
       "      <td>United-States</td>\n",
       "      <td>&gt;50K</td>\n",
       "      <td>1</td>\n",
       "    </tr>\n",
       "  </tbody>\n",
       "</table>\n",
       "<p>32561 rows × 16 columns</p>\n",
       "</div>"
      ],
      "text/plain": [
       "       age         workclass  fnlwgt   education  education-num  \\\n",
       "0       39         State-gov   77516   Bachelors             13   \n",
       "1       50  Self-emp-not-inc   83311   Bachelors             13   \n",
       "2       38           Private  215646     HS-grad              9   \n",
       "3       53           Private  234721        11th              7   \n",
       "4       28           Private  338409   Bachelors             13   \n",
       "...    ...               ...     ...         ...            ...   \n",
       "32556   27           Private  257302  Assoc-acdm             12   \n",
       "32557   40           Private  154374     HS-grad              9   \n",
       "32558   58           Private  151910     HS-grad              9   \n",
       "32559   22           Private  201490     HS-grad              9   \n",
       "32560   52      Self-emp-inc  287927     HS-grad              9   \n",
       "\n",
       "           marital-status         occupation   relationship   race     sex  \\\n",
       "0           Never-married       Adm-clerical  Not-in-family  White    Male   \n",
       "1      Married-civ-spouse    Exec-managerial        Husband  White    Male   \n",
       "2                Divorced  Handlers-cleaners  Not-in-family  White    Male   \n",
       "3      Married-civ-spouse  Handlers-cleaners        Husband  Black    Male   \n",
       "4      Married-civ-spouse     Prof-specialty           Wife  Black  Female   \n",
       "...                   ...                ...            ...    ...     ...   \n",
       "32556  Married-civ-spouse       Tech-support           Wife  White  Female   \n",
       "32557  Married-civ-spouse  Machine-op-inspct        Husband  White    Male   \n",
       "32558             Widowed       Adm-clerical      Unmarried  White  Female   \n",
       "32559       Never-married       Adm-clerical      Own-child  White    Male   \n",
       "32560  Married-civ-spouse    Exec-managerial           Wife  White  Female   \n",
       "\n",
       "       capital-gain  capital-loss  hours-per-week native-country income  \\\n",
       "0              2174             0              40  United-States  <=50K   \n",
       "1                 0             0              13  United-States  <=50K   \n",
       "2                 0             0              40  United-States  <=50K   \n",
       "3                 0             0              40  United-States  <=50K   \n",
       "4                 0             0              40           Cuba  <=50K   \n",
       "...             ...           ...             ...            ...    ...   \n",
       "32556             0             0              38  United-States  <=50K   \n",
       "32557             0             0              40  United-States   >50K   \n",
       "32558             0             0              40  United-States  <=50K   \n",
       "32559             0             0              20  United-States  <=50K   \n",
       "32560         15024             0              40  United-States   >50K   \n",
       "\n",
       "       target  \n",
       "0           0  \n",
       "1           0  \n",
       "2           0  \n",
       "3           0  \n",
       "4           0  \n",
       "...       ...  \n",
       "32556       0  \n",
       "32557       1  \n",
       "32558       0  \n",
       "32559       0  \n",
       "32560       1  \n",
       "\n",
       "[32561 rows x 16 columns]"
      ]
     },
     "execution_count": 45,
     "metadata": {},
     "output_type": "execute_result"
    }
   ],
   "source": [
    "df"
   ]
  },
  {
   "cell_type": "code",
   "execution_count": 47,
   "id": "a5d25512-edfe-432a-99a5-17c447325fba",
   "metadata": {},
   "outputs": [
    {
     "data": {
      "text/plain": [
       "0        1\n",
       "1        1\n",
       "2        0\n",
       "3        0\n",
       "4        1\n",
       "        ..\n",
       "32556    0\n",
       "32557    0\n",
       "32558    0\n",
       "32559    0\n",
       "32560    0\n",
       "Name: education, Length: 32561, dtype: int64"
      ]
     },
     "execution_count": 47,
     "metadata": {},
     "output_type": "execute_result"
    }
   ],
   "source": [
    "df['education'].isin(['Masters', 'Bachelors', 'Doctorate', 'Prof-school'])*1"
   ]
  },
  {
   "cell_type": "code",
   "execution_count": 50,
   "id": "47e9030f-f24b-47c9-bdf1-47c815f58664",
   "metadata": {},
   "outputs": [],
   "source": [
    "higher_ed = ['Masters', 'Bachelors', 'Doctorate', 'Prof-school']\n",
    "\n",
    "def mk_randomized_pipeline(theta):\n",
    "    return Pipeline(steps=[\n",
    "        ('higher-ed', FunctionTransformer(lambda x: x.isin(higher_ed)*1)),\n",
    "        ('randomize', FunctionTransformer(randomize, kw_args={'theta': theta}))\n",
    "    ])\n",
    "\n",
    "def feature_transform(theta):\n",
    "    return ColumnTransformer(transformers=[\n",
    "        ('randomize_ed', mk_randomized_pipeline(theta), ['education']),\n",
    "        ('age', FunctionTransformer(), ['age']) # maybe feature scale for e.g. SVC\n",
    "    ])\n",
    "\n",
    "def mk_model(depth, theta):\n",
    "    return Pipeline(steps=[\n",
    "        ('feature_transform', feature_transform(theta)),\n",
    "        ('classifier', DecisionTreeClassifier(max_depth=depth))\n",
    "    ])"
   ]
  },
  {
   "cell_type": "code",
   "execution_count": 53,
   "id": "e00b7ca9-968d-4c8f-822f-2f1191089be5",
   "metadata": {},
   "outputs": [],
   "source": [
    "from sklearn import set_config"
   ]
  },
  {
   "cell_type": "code",
   "execution_count": 56,
   "id": "074a9bef-f786-43e6-ac91-932521be99aa",
   "metadata": {},
   "outputs": [],
   "source": [
    "set_config(display='diagram')"
   ]
  },
  {
   "cell_type": "code",
   "execution_count": 57,
   "id": "e4195ef4-8f72-48b6-9986-5df9ccd68f41",
   "metadata": {},
   "outputs": [
    {
     "data": {
      "text/html": [
       "<style>#sk-67badbf8-6a60-4b85-a7a3-2fff6b3fd953 {color: black;background-color: white;}#sk-67badbf8-6a60-4b85-a7a3-2fff6b3fd953 pre{padding: 0;}#sk-67badbf8-6a60-4b85-a7a3-2fff6b3fd953 div.sk-toggleable {background-color: white;}#sk-67badbf8-6a60-4b85-a7a3-2fff6b3fd953 label.sk-toggleable__label {cursor: pointer;display: block;width: 100%;margin-bottom: 0;padding: 0.2em 0.3em;box-sizing: border-box;text-align: center;}#sk-67badbf8-6a60-4b85-a7a3-2fff6b3fd953 div.sk-toggleable__content {max-height: 0;max-width: 0;overflow: hidden;text-align: left;background-color: #f0f8ff;}#sk-67badbf8-6a60-4b85-a7a3-2fff6b3fd953 div.sk-toggleable__content pre {margin: 0.2em;color: black;border-radius: 0.25em;background-color: #f0f8ff;}#sk-67badbf8-6a60-4b85-a7a3-2fff6b3fd953 input.sk-toggleable__control:checked~div.sk-toggleable__content {max-height: 200px;max-width: 100%;overflow: auto;}#sk-67badbf8-6a60-4b85-a7a3-2fff6b3fd953 div.sk-estimator input.sk-toggleable__control:checked~label.sk-toggleable__label {background-color: #d4ebff;}#sk-67badbf8-6a60-4b85-a7a3-2fff6b3fd953 div.sk-label input.sk-toggleable__control:checked~label.sk-toggleable__label {background-color: #d4ebff;}#sk-67badbf8-6a60-4b85-a7a3-2fff6b3fd953 input.sk-hidden--visually {border: 0;clip: rect(1px 1px 1px 1px);clip: rect(1px, 1px, 1px, 1px);height: 1px;margin: -1px;overflow: hidden;padding: 0;position: absolute;width: 1px;}#sk-67badbf8-6a60-4b85-a7a3-2fff6b3fd953 div.sk-estimator {font-family: monospace;background-color: #f0f8ff;margin: 0.25em 0.25em;border: 1px dotted black;border-radius: 0.25em;box-sizing: border-box;}#sk-67badbf8-6a60-4b85-a7a3-2fff6b3fd953 div.sk-estimator:hover {background-color: #d4ebff;}#sk-67badbf8-6a60-4b85-a7a3-2fff6b3fd953 div.sk-parallel-item::after {content: \"\";width: 100%;border-bottom: 1px solid gray;flex-grow: 1;}#sk-67badbf8-6a60-4b85-a7a3-2fff6b3fd953 div.sk-label:hover label.sk-toggleable__label {background-color: #d4ebff;}#sk-67badbf8-6a60-4b85-a7a3-2fff6b3fd953 div.sk-serial::before {content: \"\";position: absolute;border-left: 1px solid gray;box-sizing: border-box;top: 2em;bottom: 0;left: 50%;}#sk-67badbf8-6a60-4b85-a7a3-2fff6b3fd953 div.sk-serial {display: flex;flex-direction: column;align-items: center;background-color: white;}#sk-67badbf8-6a60-4b85-a7a3-2fff6b3fd953 div.sk-item {z-index: 1;}#sk-67badbf8-6a60-4b85-a7a3-2fff6b3fd953 div.sk-parallel {display: flex;align-items: stretch;justify-content: center;background-color: white;}#sk-67badbf8-6a60-4b85-a7a3-2fff6b3fd953 div.sk-parallel-item {display: flex;flex-direction: column;position: relative;background-color: white;}#sk-67badbf8-6a60-4b85-a7a3-2fff6b3fd953 div.sk-parallel-item:first-child::after {align-self: flex-end;width: 50%;}#sk-67badbf8-6a60-4b85-a7a3-2fff6b3fd953 div.sk-parallel-item:last-child::after {align-self: flex-start;width: 50%;}#sk-67badbf8-6a60-4b85-a7a3-2fff6b3fd953 div.sk-parallel-item:only-child::after {width: 0;}#sk-67badbf8-6a60-4b85-a7a3-2fff6b3fd953 div.sk-dashed-wrapped {border: 1px dashed gray;margin: 0.2em;box-sizing: border-box;padding-bottom: 0.1em;background-color: white;position: relative;}#sk-67badbf8-6a60-4b85-a7a3-2fff6b3fd953 div.sk-label label {font-family: monospace;font-weight: bold;background-color: white;display: inline-block;line-height: 1.2em;}#sk-67badbf8-6a60-4b85-a7a3-2fff6b3fd953 div.sk-label-container {position: relative;z-index: 2;text-align: center;}#sk-67badbf8-6a60-4b85-a7a3-2fff6b3fd953 div.sk-container {display: inline-block;position: relative;}</style><div id=\"sk-67badbf8-6a60-4b85-a7a3-2fff6b3fd953\" class\"sk-top-container\"><div class=\"sk-container\"><div class=\"sk-item sk-dashed-wrapped\"><div class=\"sk-label-container\"><div class=\"sk-label sk-toggleable\"><input class=\"sk-toggleable__control sk-hidden--visually\" id=\"1a0c1866-73cb-4bb1-bbe4-5e55e3126956\" type=\"checkbox\" ><label class=\"sk-toggleable__label\" for=\"1a0c1866-73cb-4bb1-bbe4-5e55e3126956\">Pipeline</label><div class=\"sk-toggleable__content\"><pre>Pipeline(steps=[('feature_transform',\n",
       "                 ColumnTransformer(transformers=[('randomize_ed',\n",
       "                                                  Pipeline(steps=[('higher-ed',\n",
       "                                                                   FunctionTransformer(func=<function mk_randomized_pipeline.<locals>.<lambda> at 0x16c895e50>)),\n",
       "                                                                  ('randomize',\n",
       "                                                                   FunctionTransformer(func=<function randomize at 0x153a68160>,\n",
       "                                                                                       kw_args={'theta': 0.5}))]),\n",
       "                                                  ['education']),\n",
       "                                                 ('age', FunctionTransformer(),\n",
       "                                                  ['age'])])),\n",
       "                ('classifier', DecisionTreeClassifier(max_depth=3))])</pre></div></div></div><div class=\"sk-serial\"><div class=\"sk-item sk-dashed-wrapped\"><div class=\"sk-label-container\"><div class=\"sk-label sk-toggleable\"><input class=\"sk-toggleable__control sk-hidden--visually\" id=\"440f9fc2-22bd-4b16-a037-103e1dec71b0\" type=\"checkbox\" ><label class=\"sk-toggleable__label\" for=\"440f9fc2-22bd-4b16-a037-103e1dec71b0\">feature_transform: ColumnTransformer</label><div class=\"sk-toggleable__content\"><pre>ColumnTransformer(transformers=[('randomize_ed',\n",
       "                                 Pipeline(steps=[('higher-ed',\n",
       "                                                  FunctionTransformer(func=<function mk_randomized_pipeline.<locals>.<lambda> at 0x16c895e50>)),\n",
       "                                                 ('randomize',\n",
       "                                                  FunctionTransformer(func=<function randomize at 0x153a68160>,\n",
       "                                                                      kw_args={'theta': 0.5}))]),\n",
       "                                 ['education']),\n",
       "                                ('age', FunctionTransformer(), ['age'])])</pre></div></div></div><div class=\"sk-parallel\"><div class=\"sk-parallel-item\"><div class=\"sk-item\"><div class=\"sk-label-container\"><div class=\"sk-label sk-toggleable\"><input class=\"sk-toggleable__control sk-hidden--visually\" id=\"27122144-0423-4fd3-be45-7a00b80d4905\" type=\"checkbox\" ><label class=\"sk-toggleable__label\" for=\"27122144-0423-4fd3-be45-7a00b80d4905\">randomize_ed</label><div class=\"sk-toggleable__content\"><pre>['education']</pre></div></div></div><div class=\"sk-serial\"><div class=\"sk-item\"><div class=\"sk-serial\"><div class=\"sk-item\"><div class=\"sk-estimator sk-toggleable\"><input class=\"sk-toggleable__control sk-hidden--visually\" id=\"62e912c0-9db8-4b6f-a2cd-5410b0cf6ca5\" type=\"checkbox\" ><label class=\"sk-toggleable__label\" for=\"62e912c0-9db8-4b6f-a2cd-5410b0cf6ca5\">FunctionTransformer</label><div class=\"sk-toggleable__content\"><pre>FunctionTransformer(func=<function mk_randomized_pipeline.<locals>.<lambda> at 0x16c895e50>)</pre></div></div></div><div class=\"sk-item\"><div class=\"sk-estimator sk-toggleable\"><input class=\"sk-toggleable__control sk-hidden--visually\" id=\"295b5ded-c17e-4f36-a78b-6a4d9f14a75c\" type=\"checkbox\" ><label class=\"sk-toggleable__label\" for=\"295b5ded-c17e-4f36-a78b-6a4d9f14a75c\">FunctionTransformer</label><div class=\"sk-toggleable__content\"><pre>FunctionTransformer(func=<function randomize at 0x153a68160>,\n",
       "                    kw_args={'theta': 0.5})</pre></div></div></div></div></div></div></div></div><div class=\"sk-parallel-item\"><div class=\"sk-item\"><div class=\"sk-label-container\"><div class=\"sk-label sk-toggleable\"><input class=\"sk-toggleable__control sk-hidden--visually\" id=\"f0f6d892-bca2-484b-915e-59d833f9d3d7\" type=\"checkbox\" ><label class=\"sk-toggleable__label\" for=\"f0f6d892-bca2-484b-915e-59d833f9d3d7\">age</label><div class=\"sk-toggleable__content\"><pre>['age']</pre></div></div></div><div class=\"sk-serial\"><div class=\"sk-item\"><div class=\"sk-estimator sk-toggleable\"><input class=\"sk-toggleable__control sk-hidden--visually\" id=\"a008d41e-febd-4cbf-b778-7fbfb6e1aa89\" type=\"checkbox\" ><label class=\"sk-toggleable__label\" for=\"a008d41e-febd-4cbf-b778-7fbfb6e1aa89\">FunctionTransformer</label><div class=\"sk-toggleable__content\"><pre>FunctionTransformer()</pre></div></div></div></div></div></div></div></div><div class=\"sk-item\"><div class=\"sk-estimator sk-toggleable\"><input class=\"sk-toggleable__control sk-hidden--visually\" id=\"2aecc202-e17a-4533-8ca6-e5cec456bb3a\" type=\"checkbox\" ><label class=\"sk-toggleable__label\" for=\"2aecc202-e17a-4533-8ca6-e5cec456bb3a\">DecisionTreeClassifier</label><div class=\"sk-toggleable__content\"><pre>DecisionTreeClassifier(max_depth=3)</pre></div></div></div></div></div></div></div>"
      ],
      "text/plain": [
       "Pipeline(steps=[('feature_transform',\n",
       "                 ColumnTransformer(transformers=[('randomize_ed',\n",
       "                                                  Pipeline(steps=[('higher-ed',\n",
       "                                                                   FunctionTransformer(func=<function mk_randomized_pipeline.<locals>.<lambda> at 0x16c895e50>)),\n",
       "                                                                  ('randomize',\n",
       "                                                                   FunctionTransformer(func=<function randomize at 0x153a68160>,\n",
       "                                                                                       kw_args={'theta': 0.5}))]),\n",
       "                                                  ['education']),\n",
       "                                                 ('age', FunctionTransformer(),\n",
       "                                                  ['age'])])),\n",
       "                ('classifier', DecisionTreeClassifier(max_depth=3))])"
      ]
     },
     "execution_count": 57,
     "metadata": {},
     "output_type": "execute_result"
    }
   ],
   "source": [
    "mk_model(3, 0.5).fit(df, df['target'])"
   ]
  },
  {
   "cell_type": "code",
   "execution_count": 58,
   "id": "88c991f1-edf6-4f10-b0c2-37bba5141018",
   "metadata": {},
   "outputs": [
    {
     "data": {
      "text/plain": [
       "array([0.75898066, 0.75921376, 0.75921376, 0.75921376, 0.75921376,\n",
       "       0.75921376, 0.75921376, 0.75921376, 0.75921376, 0.75921376])"
      ]
     },
     "execution_count": 58,
     "metadata": {},
     "output_type": "execute_result"
    }
   ],
   "source": [
    "cross_val_score(mk_model(3, 0.5), df, df['target'], cv=10)"
   ]
  },
  {
   "cell_type": "code",
   "execution_count": 59,
   "id": "3abb12d4-26a0-4ae9-a25d-f78498f0d034",
   "metadata": {},
   "outputs": [
    {
     "data": {
      "text/plain": [
       "<matplotlib.collections.PathCollection at 0x16cb62550>"
      ]
     },
     "execution_count": 59,
     "metadata": {},
     "output_type": "execute_result"
    },
    {
     "data": {
      "image/png": "[encoded data removed]",
      "text/plain": [
       "<Figure size 432x288 with 1 Axes>"
      ]
     },
     "metadata": {
      "needs_background": "light"
     },
     "output_type": "display_data"
    }
   ],
   "source": [
    "thetas = numpy.linspace(0.5, 1.0, 10)\n",
    "scores = [cross_val_score(mk_model(3, theta), \n",
    "                          df, df['target'], cv=10).mean()\n",
    "         for theta in thetas]\n",
    "plt.scatter(thetas, scores)"
   ]
  }
 ],
 "metadata": {
  "kernelspec": {
   "display_name": "Python 3 (ipykernel)",
   "language": "python",
   "name": "python3"
  },
  "language_info": {
   "codemirror_mode": {
    "name": "ipython",
    "version": 3
   },
   "file_extension": ".py",
   "mimetype": "text/x-python",
   "name": "python",
   "nbconvert_exporter": "python",
   "pygments_lexer": "ipython3",
   "version": "3.9.6"
  }
 },
 "nbformat": 4,
 "nbformat_minor": 5
}
