{
 "cells": [
  {
   "cell_type": "code",
   "execution_count": 1,
   "id": "9a9d6085-c7a4-4ac6-8ccc-873b55bc7884",
   "metadata": {},
   "outputs": [],
   "source": [
    "import pandas\n",
    "import numpy"
   ]
  },
  {
   "cell_type": "code",
   "execution_count": 2,
   "id": "f05a2f4d-2232-48c2-9c52-0c80b74c8183",
   "metadata": {},
   "outputs": [],
   "source": [
    "df = pandas.read_csv(\"income_data.csv\", skipinitialspace=True)"
   ]
  },
  {
   "cell_type": "markdown",
   "id": "41a342d1-1d4d-4557-ba23-6cfa87163500",
   "metadata": {},
   "source": [
    "# Laplace mechanism"
   ]
  },
  {
   "cell_type": "code",
   "execution_count": 4,
   "id": "a5a231cf-3adf-4943-a297-48fe29775578",
   "metadata": {},
   "outputs": [
    {
     "data": {
      "text/plain": [
       "<AxesSubplot:ylabel='Frequency'>"
      ]
     },
     "execution_count": 4,
     "metadata": {},
     "output_type": "execute_result"
    },
    {
     "data": {
      "image/png": "[encoded data removed]",
      "text/plain": [
       "<Figure size 432x288 with 1 Axes>"
      ]
     },
     "metadata": {
      "needs_background": "light"
     },
     "output_type": "display_data"
    }
   ],
   "source": [
    "df['age'].plot.hist()"
   ]
  },
  {
   "cell_type": "code",
   "execution_count": 8,
   "id": "bcea30b2-46cf-4ac2-a177-425d45cef85e",
   "metadata": {},
   "outputs": [
    {
     "data": {
      "text/plain": [
       "6460"
      ]
     },
     "execution_count": 8,
     "metadata": {},
     "output_type": "execute_result"
    }
   ],
   "source": [
    "# how many individuals are over 50 years of age\n",
    "(df['age'] > 50).sum()"
   ]
  },
  {
   "cell_type": "code",
   "execution_count": 9,
   "id": "712f499e-cc79-4a86-b26a-f9fb8b61a0f6",
   "metadata": {},
   "outputs": [
    {
     "data": {
      "text/plain": [
       "6453.248002244163"
      ]
     },
     "execution_count": 9,
     "metadata": {},
     "output_type": "execute_result"
    }
   ],
   "source": [
    "# let's construct a Laplace mechanism\n",
    "sensitivity = 1\n",
    "epsilon = 0.1\n",
    "(df['age'] > 50).sum() + numpy.random.laplace(0, sensitivity/epsilon)"
   ]
  },
  {
   "cell_type": "code",
   "execution_count": 10,
   "id": "7dcfc4cf-02d8-4181-ac00-bfb0846fe271",
   "metadata": {},
   "outputs": [],
   "source": [
    "import matplotlib.pyplot as plt"
   ]
  },
  {
   "cell_type": "code",
   "execution_count": 15,
   "id": "bb11db0f-d23a-4a8d-8ad0-b528ca2ceb03",
   "metadata": {},
   "outputs": [
    {
     "data": {
      "image/png": "[encoded data removed]",
      "text/plain": [
       "<Figure size 432x288 with 1 Axes>"
      ]
     },
     "metadata": {
      "needs_background": "light"
     },
     "output_type": "display_data"
    }
   ],
   "source": [
    "draws = (df['age'] > 50).sum() + numpy.random.laplace(0, sensitivity/epsilon, size=5000)\n",
    "plt.hist(draws, bins=25)\n",
    "plt.xlabel('Count of individuals aged > 50')\n",
    "plt.ylabel('# results')\n",
    "None"
   ]
  },
  {
   "cell_type": "code",
   "execution_count": 17,
   "id": "32f6f8bb-057e-48da-97df-7d8b7e2ed836",
   "metadata": {},
   "outputs": [
    {
     "data": {
      "text/plain": [
       "0        0\n",
       "1        0\n",
       "2        0\n",
       "3        0\n",
       "4        0\n",
       "        ..\n",
       "32556    0\n",
       "32557    1\n",
       "32558    0\n",
       "32559    0\n",
       "32560    1\n",
       "Name: target, Length: 32561, dtype: int64"
      ]
     },
     "execution_count": 17,
     "metadata": {},
     "output_type": "execute_result"
    }
   ],
   "source": [
    "df['target'] # 1 is high, 0 is low"
   ]
  },
  {
   "cell_type": "code",
   "execution_count": 19,
   "id": "a1853ecd-169a-46bf-b007-333c0d313837",
   "metadata": {},
   "outputs": [
    {
     "data": {
      "text/plain": [
       "0.32476780185758514"
      ]
     },
     "execution_count": 19,
     "metadata": {},
     "output_type": "execute_result"
    }
   ],
   "source": [
    "# what's the fraction of > 50 year olds in high income bracket\n",
    "(df['target'][df['age'] > 50]).mean()"
   ]
  },
  {
   "cell_type": "code",
   "execution_count": 20,
   "id": "994b61dd-0bbb-47c2-8f69-fca1be128b34",
   "metadata": {},
   "outputs": [
    {
     "data": {
      "text/plain": [
       "0.2408095574460244"
      ]
     },
     "execution_count": 20,
     "metadata": {},
     "output_type": "execute_result"
    }
   ],
   "source": [
    "df['target'].mean()"
   ]
  },
  {
   "cell_type": "code",
   "execution_count": 23,
   "id": "c3e4583c-db0a-4c7d-a88a-79d318daac7f",
   "metadata": {},
   "outputs": [
    {
     "data": {
      "text/plain": [
       "<AxesSubplot:ylabel='Frequency'>"
      ]
     },
     "execution_count": 23,
     "metadata": {},
     "output_type": "execute_result"
    },
    {
     "data": {
      "image/png": "[encoded data removed]",
      "text/plain": [
       "<Figure size 432x288 with 1 Axes>"
      ]
     },
     "metadata": {
      "needs_background": "light"
     },
     "output_type": "display_data"
    }
   ],
   "source": [
    "df['age'][df['target'] == 0].plot.hist(alpha=0.5)\n",
    "df['age'][df['target'] == 1].plot.hist(alpha=0.5)"
   ]
  },
  {
   "cell_type": "code",
   "execution_count": 24,
   "id": "96993e84-81fe-4a9a-8f9f-c289486c4ab2",
   "metadata": {},
   "outputs": [
    {
     "name": "stdout",
     "output_type": "stream",
     "text": [
      "17 nan\n",
      "18 0.9405777910027132\n",
      "19 0.9384923602700396\n",
      "20 0.9356569309712002\n",
      "21 0.9324037953289761\n",
      "22 0.9291084535217413\n",
      "23 0.9255033081539082\n",
      "24 0.9209531381616114\n",
      "25 0.9167953282040779\n",
      "26 0.9123708976758473\n",
      "27 0.9081011930609675\n",
      "28 0.9034055585766496\n",
      "29 0.8987093124655844\n",
      "30 0.8943262796951301\n",
      "31 0.8898414094888842\n",
      "32 0.8850061255889431\n",
      "33 0.8805648785318232\n",
      "34 0.8754301603056232\n",
      "35 0.871007575834008\n",
      "36 0.8658981157616767\n",
      "37 0.8614150932908136\n",
      "38 0.858128273849205\n",
      "39 0.8549995515821888\n",
      "40 0.8519378859257979\n",
      "41 0.8489007035802763\n",
      "42 0.8460635676819106\n",
      "43 0.8433930866024986\n",
      "44 0.8410950785634167\n",
      "45 0.8402576539823484\n",
      "46 0.8398991904732238\n",
      "47 0.8401216498666478\n",
      "48 0.8413276907901563\n",
      "49 0.8424367464286244\n",
      "50 0.8421961837321345\n",
      "51 0.8461127250620468\n",
      "52 0.8495956031588124\n",
      "53 0.852914728362183\n",
      "54 0.8571771837724582\n",
      "55 0.8622500335675106\n",
      "56 0.8649479012986865\n",
      "57 0.8666157217008469\n",
      "58 0.8709430882886444\n",
      "59 0.8745144536050528\n",
      "60 0.8814471751017964\n",
      "61 0.8860150301966733\n",
      "62 0.8913290210899718\n",
      "63 0.893559817567944\n",
      "64 0.8959397938731006\n",
      "65 0.8986252797801351\n",
      "66 0.9008202672812533\n",
      "67 0.9027417207062843\n",
      "68 0.9060263058115283\n",
      "69 0.9082930711268987\n",
      "70 0.9091548799250545\n",
      "71 0.9111656821057517\n",
      "72 0.9137110848709932\n",
      "73 0.911989197396506\n",
      "74 0.9110282190236784\n",
      "75 0.9146777123856183\n",
      "76 0.9141939590374281\n",
      "77 0.9096170351157662\n",
      "78 0.9092016086842831\n",
      "79 0.9113066477830191\n",
      "80 0.9243303964406945\n",
      "81 0.9218667134500724\n",
      "82 0.9225038041358496\n",
      "83 0.9149798551179278\n",
      "84 0.9201580733043385\n",
      "85 0.9173413938045922\n",
      "86 0.9141802494658412\n",
      "87 0.9129892117695738\n",
      "88 0.9117194206640248\n",
      "90 0.9073625705652912\n"
     ]
    }
   ],
   "source": [
    "# one step in decision tree\n",
    "for split in sorted(df['age'].unique()):\n",
    "    mask = df['age'] < split\n",
    "    gini = 1 - df['target'][mask].mean()**2 - df['target'][~mask].mean()**2\n",
    "    print(split, gini)"
   ]
  },
  {
   "cell_type": "markdown",
   "id": "d5a7a5bc-e800-460e-b7b7-988d222a29bd",
   "metadata": {},
   "source": [
    "# Exponential Mechanism"
   ]
  },
  {
   "cell_type": "code",
   "execution_count": 25,
   "id": "3b4cf4da-bc23-4d76-b654-0c028af17757",
   "metadata": {},
   "outputs": [
    {
     "data": {
      "text/plain": [
       "array(['Bachelors', 'HS-grad', '11th', 'Masters', '9th', 'Some-college',\n",
       "       'Assoc-acdm', 'Assoc-voc', '7th-8th', 'Doctorate', 'Prof-school',\n",
       "       '5th-6th', '10th', '1st-4th', 'Preschool', '12th'], dtype=object)"
      ]
     },
     "execution_count": 25,
     "metadata": {},
     "output_type": "execute_result"
    }
   ],
   "source": [
    "df['education'].unique() # R"
   ]
  },
  {
   "cell_type": "code",
   "execution_count": 26,
   "id": "4dceb960-85ab-429b-9984-3c0ef2e630a1",
   "metadata": {},
   "outputs": [
    {
     "data": {
      "text/plain": [
       "HS-grad         10501\n",
       "Some-college     7291\n",
       "Bachelors        5355\n",
       "Masters          1723\n",
       "Assoc-voc        1382\n",
       "11th             1175\n",
       "Assoc-acdm       1067\n",
       "10th              933\n",
       "7th-8th           646\n",
       "Prof-school       576\n",
       "9th               514\n",
       "12th              433\n",
       "Doctorate         413\n",
       "5th-6th           333\n",
       "1st-4th           168\n",
       "Preschool          51\n",
       "Name: education, dtype: int64"
      ]
     },
     "execution_count": 26,
     "metadata": {},
     "output_type": "execute_result"
    }
   ],
   "source": [
    "df['education'].value_counts()"
   ]
  },
  {
   "cell_type": "code",
   "execution_count": 29,
   "id": "c47f570c-f57a-4132-919d-e5bd02fb8c71",
   "metadata": {},
   "outputs": [],
   "source": [
    "# scoring function for the query 'most common education'\n",
    "def u(x, value):\n",
    "    v_cnts = x.value_counts()\n",
    "    return v_cnts[value] / v_cnts.sum()"
   ]
  },
  {
   "cell_type": "code",
   "execution_count": 30,
   "id": "e7f4245e-b8f7-4678-b6bb-e04ada34e609",
   "metadata": {},
   "outputs": [
    {
     "data": {
      "text/plain": [
       "0.22391818433094807"
      ]
     },
     "execution_count": 30,
     "metadata": {},
     "output_type": "execute_result"
    }
   ],
   "source": [
    "u(df['education'], 'Some-college')"
   ]
  },
  {
   "cell_type": "code",
   "execution_count": 33,
   "id": "5bc7f285-d366-4d6b-a383-7d90849f5f70",
   "metadata": {},
   "outputs": [
    {
     "data": {
      "text/plain": [
       "0         Bachelors\n",
       "1         Bachelors\n",
       "3              11th\n",
       "4         Bachelors\n",
       "5           Masters\n",
       "            ...    \n",
       "32556    Assoc-acdm\n",
       "32557       HS-grad\n",
       "32558       HS-grad\n",
       "32559       HS-grad\n",
       "32560       HS-grad\n",
       "Name: education, Length: 32560, dtype: object"
      ]
     },
     "execution_count": 33,
     "metadata": {},
     "output_type": "execute_result"
    }
   ],
   "source": [
    "df['education'].drop(2)"
   ]
  },
  {
   "cell_type": "code",
   "execution_count": 35,
   "id": "08ee0ed4-fb44-4eb7-b192-c3a59ebb7675",
   "metadata": {},
   "outputs": [
    {
     "data": {
      "text/plain": [
       "32561"
      ]
     },
     "execution_count": 35,
     "metadata": {},
     "output_type": "execute_result"
    }
   ],
   "source": [
    "df['education'].shape[0]"
   ]
  },
  {
   "cell_type": "code",
   "execution_count": 37,
   "id": "be45c703-9d1b-446b-b834-467e7c41305a",
   "metadata": {},
   "outputs": [],
   "source": [
    "answers = []\n",
    "for _ in range(1000):\n",
    "    drop = numpy.random.choice(df['education'].shape[0])\n",
    "    xp = df['education'].drop(drop)\n",
    "    answers.append(numpy.abs(u(df['education'], 'Some-college') - u(xp, 'Some-college')))"
   ]
  },
  {
   "cell_type": "code",
   "execution_count": 40,
   "id": "38b6c906-87d1-47a6-90b5-e41c4f8c5430",
   "metadata": {},
   "outputs": [
    {
     "data": {
      "text/plain": [
       "array([6.87709411e-06, 2.38354366e-05])"
      ]
     },
     "execution_count": 40,
     "metadata": {},
     "output_type": "execute_result"
    }
   ],
   "source": [
    "numpy.unique(answers)"
   ]
  },
  {
   "cell_type": "code",
   "execution_count": 41,
   "id": "2fbdd84b-27f8-4d95-a791-65076842b355",
   "metadata": {},
   "outputs": [
    {
     "data": {
      "text/plain": [
       "Some-college    0.223918\n",
       "HS-grad         0.322502\n",
       "Name: education, dtype: float64"
      ]
     },
     "execution_count": 41,
     "metadata": {},
     "output_type": "execute_result"
    }
   ],
   "source": [
    "u(df['education'], numpy.array(['Some-college', 'HS-grad']))"
   ]
  },
  {
   "cell_type": "code",
   "execution_count": 42,
   "id": "2df0a763-d966-4d12-9ec3-14add2ce549c",
   "metadata": {},
   "outputs": [],
   "source": [
    "def exponential(x, R, u, sensitivity, epsilon, n=1):\n",
    "    scores = u(x, R) # score each element in R\n",
    "    probs = numpy.exp(epsilon*scores / 2 / sensitivity)\n",
    "    probs /= probs.sum()\n",
    "    return numpy.random.choice(R, n, p=probs)"
   ]
  },
  {
   "cell_type": "code",
   "execution_count": 50,
   "id": "c5c26b6f-a8db-4b3c-8f67-e7e06962a8e5",
   "metadata": {},
   "outputs": [
    {
     "data": {
      "text/plain": [
       "array(['9th'], dtype=object)"
      ]
     },
     "execution_count": 50,
     "metadata": {},
     "output_type": "execute_result"
    }
   ],
   "source": [
    "exponential(df['education'], df['education'].unique(), u, 1, 1)"
   ]
  },
  {
   "cell_type": "code",
   "execution_count": 52,
   "id": "7546e303-8af4-4cae-9f26-90d0a6ab2aad",
   "metadata": {},
   "outputs": [],
   "source": [
    "import pandas"
   ]
  },
  {
   "cell_type": "code",
   "execution_count": 68,
   "id": "6af96d8b-57ea-4c7a-8f2f-4f854d51fcae",
   "metadata": {},
   "outputs": [
    {
     "data": {
      "text/plain": [
       "<AxesSubplot:>"
      ]
     },
     "execution_count": 68,
     "metadata": {},
     "output_type": "execute_result"
    },
    {
     "data": {
      "image/png": "[encoded data removed]",
      "text/plain": [
       "<Figure size 432x288 with 1 Axes>"
      ]
     },
     "metadata": {
      "needs_background": "light"
     },
     "output_type": "display_data"
    }
   ],
   "source": [
    "pandas.Series(exponential(df['education'], df['education'].unique(), u, 1, 4, 10000)\n",
    "             ).value_counts().plot.bar()"
   ]
  },
  {
   "cell_type": "code",
   "execution_count": 56,
   "id": "362252ae-98ea-489a-bcea-20022829947c",
   "metadata": {},
   "outputs": [
    {
     "data": {
      "text/plain": [
       "<AxesSubplot:>"
      ]
     },
     "execution_count": 56,
     "metadata": {},
     "output_type": "execute_result"
    },
    {
     "data": {
      "image/png": "[encoded data removed]",
      "text/plain": [
       "<Figure size 432x288 with 1 Axes>"
      ]
     },
     "metadata": {
      "needs_background": "light"
     },
     "output_type": "display_data"
    }
   ],
   "source": [
    "df['education'].value_counts().plot.bar()"
   ]
  },
  {
   "cell_type": "markdown",
   "id": "57f16c62-5f8a-459b-b364-3a4ed83f35a7",
   "metadata": {},
   "source": [
    "# Differential Privacy Library\n",
    "\n",
    "https://diffprivlib.readthedocs.io/en/latest/index.html"
   ]
  },
  {
   "cell_type": "code",
   "execution_count": 69,
   "id": "69af9b2d-0b6e-48b0-877b-4fa5100028d0",
   "metadata": {},
   "outputs": [
    {
     "data": {
      "text/plain": [
       "Index(['age', 'workclass', 'fnlwgt', 'education', 'education-num',\n",
       "       'marital-status', 'occupation', 'relationship', 'race', 'sex',\n",
       "       'capital-gain', 'capital-loss', 'hours-per-week', 'native-country',\n",
       "       'income', 'target'],\n",
       "      dtype='object')"
      ]
     },
     "execution_count": 69,
     "metadata": {},
     "output_type": "execute_result"
    }
   ],
   "source": [
    "df.columns"
   ]
  },
  {
   "cell_type": "code",
   "execution_count": 72,
   "id": "58929dd3-1f23-4374-aac7-ce9ef02fc9f0",
   "metadata": {},
   "outputs": [],
   "source": [
    "from diffprivlib.models import LogisticRegression\n",
    "from sklearn.pipeline import Pipeline\n",
    "from sklearn.preprocessing import OneHotEncoder, FunctionTransformer, StandardScaler\n",
    "from sklearn.compose import ColumnTransformer\n",
    "from sklearn.model_selection import cross_val_score"
   ]
  },
  {
   "cell_type": "code",
   "execution_count": 81,
   "id": "b86e0caf-ea6f-4594-98e3-ccc7406fb119",
   "metadata": {},
   "outputs": [],
   "source": [
    "def mk_model(epsilon):\n",
    "    return Pipeline([\n",
    "        ('process', ColumnTransformer([\n",
    "            ('one-hot', OneHotEncoder(drop='first', sparse=False), ['education', 'sex']), # careful!\n",
    "            ('leave-age', FunctionTransformer(), ['age'])\n",
    "        ])),\n",
    "        ('scale', StandardScaler()),\n",
    "        ('clf', LogisticRegression(data_norm=50, epsilon=epsilon))\n",
    "    ])"
   ]
  },
  {
   "cell_type": "code",
   "execution_count": 82,
   "id": "ee3f830a-fc7e-44a7-a5e5-9764ad2727e2",
   "metadata": {},
   "outputs": [
    {
     "data": {
      "text/plain": [
       "Pipeline(steps=[('process',\n",
       "                 ColumnTransformer(transformers=[('one-hot',\n",
       "                                                  OneHotEncoder(drop='first',\n",
       "                                                                sparse=False),\n",
       "                                                  ['education', 'sex']),\n",
       "                                                 ('leave-age',\n",
       "                                                  FunctionTransformer(),\n",
       "                                                  ['age'])])),\n",
       "                ('scale', StandardScaler()),\n",
       "                ('clf',\n",
       "                 LogisticRegression(accountant=BudgetAccountant(spent_budget=[(0.5, 0)]),\n",
       "                                    data_norm=50, epsilon=0.5))])"
      ]
     },
     "execution_count": 82,
     "metadata": {},
     "output_type": "execute_result"
    }
   ],
   "source": [
    "mk_model(0.5).fit(df, df['target'])"
   ]
  },
  {
   "cell_type": "code",
   "execution_count": 83,
   "id": "054cab9a-f304-4592-b1be-ef0765635ad4",
   "metadata": {},
   "outputs": [],
   "source": [
    "eps = numpy.linspace(0.1, 2, 10)\n",
    "scores = [cross_val_score(mk_model(e), df, df['target']) for e in eps]"
   ]
  },
  {
   "cell_type": "code",
   "execution_count": 86,
   "id": "18de46a3-9822-4cbb-8137-d948ff018f20",
   "metadata": {},
   "outputs": [
    {
     "data": {
      "image/png": "[encoded data removed]",
      "text/plain": [
       "<Figure size 432x288 with 1 Axes>"
      ]
     },
     "metadata": {
      "needs_background": "light"
     },
     "output_type": "display_data"
    }
   ],
   "source": [
    "plt.plot(eps, scores)\n",
    "plt.xlabel('epsilon')\n",
    "plt.ylabel('cross validation scores')\n",
    "None"
   ]
  },
  {
   "cell_type": "code",
   "execution_count": null,
   "id": "ad52735d-aab3-4d99-af4d-e35800247355",
   "metadata": {},
   "outputs": [],
   "source": []
  }
 ],
 "metadata": {
  "kernelspec": {
   "display_name": "Python 3 (ipykernel)",
   "language": "python",
   "name": "python3"
  },
  "language_info": {
   "codemirror_mode": {
    "name": "ipython",
    "version": 3
   },
   "file_extension": ".py",
   "mimetype": "text/x-python",
   "name": "python",
   "nbconvert_exporter": "python",
   "pygments_lexer": "ipython3",
   "version": "3.9.6"
  }
 },
 "nbformat": 4,
 "nbformat_minor": 5
}
